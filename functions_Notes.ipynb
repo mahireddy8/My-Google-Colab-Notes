{
 "cells": [
  {
   "cell_type": "markdown",
   "metadata": {
    "id": "NCZ0Ld-w4ApY"
   },
   "source": [
    "### Functions"
   ]
  },
  {
   "cell_type": "markdown",
   "metadata": {},
   "source": [
    "### <b>Functions:</b>\n",
    "- A funtion is a block of code that is written to perform a specific task.\n",
    "- A function only runs when it is called, the purpose of creating a funtion is reusability, instead of writing a code again and again.\n",
    "- when we do the same kind of task but for different inputs this functions concept will helpful to reduce the code complexity , time save and increase the readability.\n",
    "- You can pass data, known as parameters, into a function and function can return data as a result.\n",
    "\n",
    "![function.png](data:image/png;base64,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)\n",
    "\n",
    "\n",
    "#### <b>Defining a Function:</b>\n",
    "\n",
    "* You define a function using the def keyword, followed by the function name, parentheses, and a colon. Inside the parentheses, you can include parameters that the function can accept. The code block within the function is indented.\n",
    "\n",
    "#### <b>Types of Functions:</b>\n",
    "\n",
    "* we have two types of funtion in python they are:\n",
    "\n",
    "<b>1.Buit-in funtions:</b> These are standard funtions in Python that are available to use.\n",
    "\n",
    "\n",
    "<b>2.user defined funtions:</b> based on our requirement we can create our own funtions.\n",
    "\n"
   ]
  },
  {
   "cell_type": "code",
   "execution_count": 2,
   "metadata": {},
   "outputs": [],
   "source": [
    "# creating a funtion\n",
    "\n",
    "def my_fun():\n",
    "  print(\"Hello Python funtion\")"
   ]
  },
  {
   "cell_type": "code",
   "execution_count": 3,
   "metadata": {},
   "outputs": [
    {
     "name": "stdout",
     "output_type": "stream",
     "text": [
      "Hello Python funtion\n"
     ]
    }
   ],
   "source": [
    "# calling a funtion\n",
    "\n",
    "my_fun()"
   ]
  },
  {
   "cell_type": "markdown",
   "metadata": {},
   "source": [
    "#### <b>Parameters or Arguments? </b>\n",
    "\n",
    "* A parameter is the variable listed inside the parentheses in the function definition.\n",
    "An argument is the value that is sent to the function when it is called.\n",
    "\n",
    "#### <b>Default Parameters:</b>\n",
    "\n",
    "* You can provide default values for parameters. If an argument is not provided, the default value is used."
   ]
  },
  {
   "cell_type": "code",
   "execution_count": 5,
   "metadata": {},
   "outputs": [],
   "source": [
    "# Function with Parameters and return statement\n",
    "\n",
    "def addition(num1,num2):\n",
    "  num3=num1+num2\n",
    "  return num3"
   ]
  },
  {
   "cell_type": "code",
   "execution_count": 6,
   "metadata": {},
   "outputs": [
    {
     "data": {
      "text/plain": [
       "33"
      ]
     },
     "execution_count": 6,
     "metadata": {},
     "output_type": "execute_result"
    }
   ],
   "source": [
    "addition(11,22)"
   ]
  },
  {
   "cell_type": "code",
   "execution_count": 7,
   "metadata": {},
   "outputs": [],
   "source": [
    "# Default Parameters\n",
    "\n",
    "def greeting(name=\"Guest\"):\n",
    "    print(f\"Hello, {name}!\")"
   ]
  },
  {
   "cell_type": "code",
   "execution_count": 8,
   "metadata": {},
   "outputs": [
    {
     "name": "stdout",
     "output_type": "stream",
     "text": [
      "Hello, Mahender!\n"
     ]
    }
   ],
   "source": [
    "greeting('Mahender')"
   ]
  },
  {
   "cell_type": "markdown",
   "metadata": {
    "id": "Vy_jmUfP7QsZ"
   },
   "source": [
    "#### Necessity of user defined funcs"
   ]
  },
  {
   "cell_type": "markdown",
   "metadata": {
    "id": "6xa05qTA7hUa"
   },
   "source": [
    "* Reusability ---> we can call the func whenever neccessary with a different set of values\n",
    "\n",
    "* Abstraction ---> end user doesn't need to know the tiny details on how we ended up with the result, we can use funcs to code complex logic or logic that we need to hide from enduser and provide him with funcCall\n",
    "\n",
    "* Namespace ---> funcs helps us to manage namespace by avoiding potential naming conflicts.\n",
    "\n",
    "* We can break complex logic to blocks of smaller functions and these approach helps in smooth debugging of errors"
   ]
  },
  {
   "cell_type": "markdown",
   "metadata": {
    "id": "WVpTG-kI4BT6"
   },
   "source": [
    "#### User defined functions with name"
   ]
  },
  {
   "cell_type": "markdown",
   "metadata": {
    "id": "ToNmdPdB4PZd"
   },
   "source": [
    "* They are a block of syntaxicaly correct logical code which is executed to perform a desired task or tasks\n",
    "\n",
    "* There are two steps in writing and executing user defined funcs, step-I --> defining the func, here we define the func's logic, syntax for step - I is as follows\n",
    "\n",
    ">>\n",
    "  >\n",
    "      \n",
    "      def funcName(parameter/s):\n",
    "        body of code\n",
    "\n",
    "\n",
    "  * parametres are placeholders for the actual values, we can consider parameters as varNames that reffer to the actual values\n",
    "\n",
    "step - II is calling the func, syntax for calling the func is as follows\n",
    "\n",
    "\n",
    ">>\n",
    "  >\n",
    "      \n",
    "      funcName(arg/s)\n",
    "\n",
    "  * args are the real values we pass to the func\n",
    "      \n",
    "\n",
    "* generally a user defined func has a documentation on what the func does and about the args we need to pass. This documentation is reffered as doc strings\n",
    "\n",
    "  >>\n",
    "      def funcName(parameter\\s):\n",
    "          '''documentation\n",
    "             for the\n",
    "             user defined func'''\n",
    "           block of code\n",
    "\n",
    "we can access the doc strings using  \\_\\_doc__ (funcName.\\_\\_doc__) or by using help()"
   ]
  },
  {
   "cell_type": "code",
   "execution_count": null,
   "metadata": {
    "colab": {
     "base_uri": "https://localhost:8080/"
    },
    "executionInfo": {
     "elapsed": 12,
     "status": "ok",
     "timestamp": 1717163474286,
     "user": {
      "displayName": "Abhilash Manikanta",
      "userId": "03760544981880881787"
     },
     "user_tz": -330
    },
    "id": "1oV7uEKH6iSE",
    "outputId": "c3021866-2e48-44c9-e590-99c8e4ef2934"
   },
   "outputs": [
    {
     "name": "stdout",
     "output_type": "stream",
     "text": [
      "this is an user defined func\n"
     ]
    }
   ],
   "source": [
    "# creating a func\n",
    "\n",
    "def funcName():\n",
    "  print('this is an user defined func')\n",
    "\n",
    "# step-ii\n",
    "\n",
    "funcName()"
   ]
  },
  {
   "cell_type": "code",
   "execution_count": null,
   "metadata": {
    "colab": {
     "base_uri": "https://localhost:8080/"
    },
    "executionInfo": {
     "elapsed": 686,
     "status": "ok",
     "timestamp": 1717164734064,
     "user": {
      "displayName": "Abhilash Manikanta",
      "userId": "03760544981880881787"
     },
     "user_tz": -330
    },
    "id": "XpjnHAHZ61en",
    "outputId": "23a6975c-f3b6-4c8f-b161-db824ac01860"
   },
   "outputs": [
    {
     "name": "stdout",
     "output_type": "stream",
     "text": [
      "30\n"
     ]
    }
   ],
   "source": [
    "def foo(x, y): # x, y are parameters\n",
    "  '''\n",
    "  This func takes two inputs and prints the sum/concatenation of these inputs\n",
    "  '''\n",
    "  print(x + y)\n",
    "\n",
    "foo(10, 20) # 10, 20 are the arguements"
   ]
  },
  {
   "cell_type": "code",
   "execution_count": null,
   "metadata": {
    "colab": {
     "base_uri": "https://localhost:8080/"
    },
    "executionInfo": {
     "elapsed": 4,
     "status": "ok",
     "timestamp": 1717164759807,
     "user": {
      "displayName": "Abhilash Manikanta",
      "userId": "03760544981880881787"
     },
     "user_tz": -330
    },
    "id": "vRXP-i4U_oH_",
    "outputId": "1ee486d0-52ef-4cf5-b3fb-34545fa5a6e2"
   },
   "outputs": [
    {
     "name": "stdout",
     "output_type": "stream",
     "text": [
      "\n",
      "  This func takes two inputs and prints the sum/concatenation of these inputs\n",
      "  \n"
     ]
    }
   ],
   "source": [
    "print(foo.__doc__)"
   ]
  },
  {
   "cell_type": "code",
   "execution_count": null,
   "metadata": {
    "colab": {
     "base_uri": "https://localhost:8080/"
    },
    "executionInfo": {
     "elapsed": 5,
     "status": "ok",
     "timestamp": 1717164770673,
     "user": {
      "displayName": "Abhilash Manikanta",
      "userId": "03760544981880881787"
     },
     "user_tz": -330
    },
    "id": "hAYEKDDZ_u3l",
    "outputId": "3a58870b-2ced-4398-e2f8-cd9f3f4c9dfc"
   },
   "outputs": [
    {
     "name": "stdout",
     "output_type": "stream",
     "text": [
      "Help on function foo in module __main__:\n",
      "\n",
      "foo(x, y)\n",
      "    This func takes two inputs and prints the sum/concatenation of these inputs\n",
      "\n"
     ]
    }
   ],
   "source": [
    "help(foo)"
   ]
  },
  {
   "cell_type": "code",
   "execution_count": null,
   "metadata": {
    "id": "Vtxmpj-pA7nL"
   },
   "outputs": [],
   "source": []
  },
  {
   "cell_type": "markdown",
   "metadata": {
    "id": "wQ9q4SEv6iAI"
   },
   "source": [
    "##### different types of arguements"
   ]
  },
  {
   "cell_type": "markdown",
   "metadata": {
    "id": "fkjPw7xOBF5T"
   },
   "source": [
    "* There are three kinds of arguements\n",
    "  \n",
    "  * positional args\n",
    "  * default args\n",
    "  * keyword args\n",
    "\n",
    "* Positional arguements:\n",
    "\n",
    "  * at time of calling the func, the order in which we pass the args values and the way parameters were defined should allign, since parameters will refer to these args in same order (unpacking)"
   ]
  },
  {
   "cell_type": "code",
   "execution_count": null,
   "metadata": {
    "colab": {
     "base_uri": "https://localhost:8080/"
    },
    "executionInfo": {
     "elapsed": 1030,
     "status": "ok",
     "timestamp": 1717165507494,
     "user": {
      "displayName": "Abhilash Manikanta",
      "userId": "03760544981880881787"
     },
     "user_tz": -330
    },
    "id": "QD1QeMR9CJ2t",
    "outputId": "36b5c976-1eae-4377-95e8-63f0ba846869"
   },
   "outputs": [
    {
     "name": "stdout",
     "output_type": "stream",
     "text": [
      "churchill, willson\n"
     ]
    }
   ],
   "source": [
    "def foo(fname, lname):\n",
    "  print(f'{lname}, {fname}') # printing name in English style\n",
    "\n",
    "foo('willson', 'churchill')"
   ]
  },
  {
   "cell_type": "markdown",
   "metadata": {
    "id": "GYUf1TCQCxqe"
   },
   "source": [
    "* Default args:\n",
    "\n",
    "  * default args are provided at time of creating the funcs. Normally as the complexity of func increases, we end up using or relying on more args. Most of these args will have default values. If and only if these values are changed explicitly at time of calling the func, default values will be updated."
   ]
  },
  {
   "cell_type": "code",
   "execution_count": null,
   "metadata": {
    "colab": {
     "base_uri": "https://localhost:8080/"
    },
    "executionInfo": {
     "elapsed": 630,
     "status": "ok",
     "timestamp": 1717165907112,
     "user": {
      "displayName": "Abhilash Manikanta",
      "userId": "03760544981880881787"
     },
     "user_tz": -330
    },
    "id": "ar6FXIXrDifs",
    "outputId": "987680fb-eb47-48e3-82ba-a37a6fe8c241"
   },
   "outputs": [
    {
     "name": "stdout",
     "output_type": "stream",
     "text": [
      "Holla! Winston Churchill\n",
      "Hello Winston Churchill\n",
      "Bonjour Winston Churchill\n"
     ]
    }
   ],
   "source": [
    "def foo(fname, lname, greet = 'Holla!'):\n",
    "  print(f'{greet} {fname} {lname}')\n",
    "\n",
    "foo('Winston', 'Churchill') # default value of greet is used\n",
    "\n",
    "foo('Winston', 'Churchill', 'Hello')\n",
    "\n",
    "foo('Winston', 'Churchill', greet = 'Bonjour')"
   ]
  },
  {
   "cell_type": "markdown",
   "metadata": {
    "id": "t6fOPe_yEaAG"
   },
   "source": [
    "* Keyword args:\n",
    "\n",
    "  * Task write notes on keyword args"
   ]
  },
  {
   "cell_type": "markdown",
   "metadata": {
    "id": "OEf5_olKDiNQ"
   },
   "source": [
    "* __Note__: There are few points to remember and be catious about\n",
    "\n",
    "  * there should be no conflict between positional and keyword args\n",
    "  * all default args and keyword args should come at end while creating a func and calling a func respectively.\n",
    "  "
   ]
  },
  {
   "cell_type": "code",
   "execution_count": null,
   "metadata": {
    "id": "1C4tbIO9Fcvx"
   },
   "outputs": [],
   "source": [
    "'''\n",
    "def foo(a, b, c = 100, d):\n",
    "  pass\n",
    "''' # uncomment to see the error\n",
    "\n",
    "def foo(a, b, c):\n",
    "  print((a+b)/c)\n",
    "\n",
    "#foo(10, b = 5, 20) #uncomment to see the error\n",
    "\n",
    "#foo(5, 20, a = 10) #uncomment to see the error"
   ]
  },
  {
   "cell_type": "markdown",
   "metadata": {
    "id": "fXNdlap8G-Ia"
   },
   "source": [
    "![](https://static.packt-cdn.com/products/9781786463517/graphics/Anatomy_of_a_function.jpg)"
   ]
  },
  {
   "cell_type": "markdown",
   "metadata": {
    "id": "-MurMfy46csS"
   },
   "source": []
  },
  {
   "cell_type": "markdown",
   "metadata": {
    "id": "LsweA0E86dyT"
   },
   "source": []
  },
  {
   "cell_type": "code",
   "execution_count": null,
   "metadata": {
    "colab": {
     "base_uri": "https://localhost:8080/"
    },
    "executionInfo": {
     "elapsed": 7504,
     "status": "ok",
     "timestamp": 1717167156558,
     "user": {
      "displayName": "Abhilash Manikanta",
      "userId": "03760544981880881787"
     },
     "user_tz": -330
    },
    "id": "mZ--phv-4Bv3",
    "outputId": "97557c2a-5cf3-4ad1-b124-bbfb32babe27"
   },
   "outputs": [
    {
     "name": "stdout",
     "output_type": "stream",
     "text": [
      "enter num a: 5\n",
      "enter num b: 7\n",
      "7 is greater\n"
     ]
    }
   ],
   "source": [
    "# code by mallika ma'am\n",
    "\n",
    "def ask(a=int(input('enter num a: ')),b=int(input('enter num b: '))):\n",
    "  if a>b:\n",
    "    print(f'{a} is greater')\n",
    "  else:\n",
    "    print(f'{b} is greater')\n",
    "ask()"
   ]
  },
  {
   "cell_type": "code",
   "execution_count": null,
   "metadata": {
    "colab": {
     "base_uri": "https://localhost:8080/"
    },
    "executionInfo": {
     "elapsed": 11515,
     "status": "ok",
     "timestamp": 1717167735347,
     "user": {
      "displayName": "Abhilash Manikanta",
      "userId": "03760544981880881787"
     },
     "user_tz": -330
    },
    "id": "i7GkSq3s4CWw",
    "outputId": "f59d2679-559b-4314-8cb8-7b7453c1133e"
   },
   "outputs": [
    {
     "name": "stdout",
     "output_type": "stream",
     "text": [
      "enter a character : |\n",
      "enter a number : 5\n",
      "| | | | | \n",
      "| | | | | \n",
      "| | | | | \n",
      "| | | | | \n",
      "| | | | | \n"
     ]
    }
   ],
   "source": [
    "# waf which prints a squre of given char and len\n",
    "\n",
    "''' *, 3\n",
    "\n",
    "* * *\n",
    "* * *\n",
    "* * *\n",
    "\n",
    "'''\n",
    "\n",
    "# code by Archana ma'am\n",
    "def pattern(c,n):\n",
    "  i = 0\n",
    "  while i<n:\n",
    "    print((c+' ')*n)\n",
    "    i+=1\n",
    "c = input(\"enter a character : \")\n",
    "n = int(input(\"enter a number : \"))\n",
    "pattern(c,n)"
   ]
  },
  {
   "cell_type": "code",
   "execution_count": null,
   "metadata": {
    "colab": {
     "base_uri": "https://localhost:8080/"
    },
    "executionInfo": {
     "elapsed": 6729,
     "status": "ok",
     "timestamp": 1717168201989,
     "user": {
      "displayName": "Abhilash Manikanta",
      "userId": "03760544981880881787"
     },
     "user_tz": -330
    },
    "id": "eL4QN-UI4CTj",
    "outputId": "551ecc32-06af-49bc-c4da-55a170232f84"
   },
   "outputs": [
    {
     "name": "stdout",
     "output_type": "stream",
     "text": [
      "Enter any char: #\n",
      "Enter num: 5\n",
      "# # # # # \n",
      "# # # # \n",
      "# # # \n",
      "# # \n",
      "# \n"
     ]
    }
   ],
   "source": [
    "'''\n",
    "* * * *\n",
    "* * *\n",
    "* *\n",
    "*\n",
    "'''\n",
    "\n",
    "def ast(a=input(\"Enter any char: \"),b=int(input(\"Enter num: \"))):\n",
    "  i=b\n",
    "  while(i>0):\n",
    "    print((a+' ')*i)\n",
    "    i-=1\n",
    "ast()"
   ]
  },
  {
   "cell_type": "code",
   "execution_count": null,
   "metadata": {
    "id": "TzTWIQee4CQJ"
   },
   "outputs": [],
   "source": []
  },
  {
   "cell_type": "code",
   "execution_count": null,
   "metadata": {
    "colab": {
     "base_uri": "https://localhost:8080/",
     "height": 53
    },
    "executionInfo": {
     "elapsed": 1895,
     "status": "ok",
     "timestamp": 1717251780594,
     "user": {
      "displayName": "Abhilash Manikanta",
      "userId": "03760544981880881787"
     },
     "user_tz": -330
    },
    "id": "hlcNPaXk4CM7",
    "outputId": "9d8a8e88-34ec-44af-d281-dbfb94d61e00"
   },
   "outputs": [
    {
     "name": "stdout",
     "output_type": "stream",
     "text": [
      "enter a num: 14\n"
     ]
    },
    {
     "data": {
      "application/vnd.google.colaboratory.intrinsic+json": {
       "type": "string"
      },
      "text/plain": [
       "'even'"
      ]
     },
     "execution_count": 2,
     "metadata": {},
     "output_type": "execute_result"
    }
   ],
   "source": [
    "def foo(x = int(input('enter a num: '))):\n",
    "  if x%2 == 0:\n",
    "    return 'even'\n",
    "  else:\n",
    "    return 'odd'\n",
    "\n",
    "a = foo()\n",
    "a"
   ]
  },
  {
   "cell_type": "code",
   "execution_count": null,
   "metadata": {
    "id": "sAHLTxyu4CJ8"
   },
   "outputs": [],
   "source": [
    "x = 'hello 12cde45 !ef@'\n",
    "\n",
    "#myStringUpper(x)\n",
    "# HELLO 12CDE45 !EF@"
   ]
  },
  {
   "cell_type": "code",
   "execution_count": null,
   "metadata": {
    "colab": {
     "base_uri": "https://localhost:8080/",
     "height": 36
    },
    "executionInfo": {
     "elapsed": 12,
     "status": "ok",
     "timestamp": 1717252026529,
     "user": {
      "displayName": "Abhilash Manikanta",
      "userId": "03760544981880881787"
     },
     "user_tz": -330
    },
    "id": "9S9ZT42N4CGz",
    "outputId": "6117e681-d9cd-41d3-dcb7-537db819bcac"
   },
   "outputs": [
    {
     "data": {
      "application/vnd.google.colaboratory.intrinsic+json": {
       "type": "string"
      },
      "text/plain": [
       "'HELLO 12CDE45 !EF@'"
      ]
     },
     "execution_count": 6,
     "metadata": {},
     "output_type": "execute_result"
    }
   ],
   "source": [
    "x.upper()"
   ]
  },
  {
   "cell_type": "code",
   "execution_count": null,
   "metadata": {
    "id": "O8JEDRFW4B5G"
   },
   "outputs": [],
   "source": [
    "ord(), chr(), +"
   ]
  },
  {
   "cell_type": "code",
   "execution_count": null,
   "metadata": {
    "id": "Gn4AQkLw4B1i"
   },
   "outputs": [],
   "source": []
  },
  {
   "cell_type": "code",
   "execution_count": null,
   "metadata": {
    "id": "iCFvqFm3NbLH"
   },
   "outputs": [],
   "source": [
    "def myStringUpper(x):\n",
    "  z = ''\n",
    "  for char in x:\n",
    "    if ord(char) in range(97, 123):\n",
    "      #z+=chr(ord(char)-32)\n",
    "      uUnicode = ord(char)-32\n",
    "      uChar = chr(uUnicode)\n",
    "      z+=uChar\n",
    "    else:\n",
    "      z+=char\n",
    "\n",
    "  return z\n",
    "\n"
   ]
  },
  {
   "cell_type": "code",
   "execution_count": null,
   "metadata": {
    "colab": {
     "base_uri": "https://localhost:8080/"
    },
    "executionInfo": {
     "elapsed": 6,
     "status": "ok",
     "timestamp": 1717252581874,
     "user": {
      "displayName": "Abhilash Manikanta",
      "userId": "03760544981880881787"
     },
     "user_tz": -330
    },
    "id": "kjUytTrPNbHJ",
    "outputId": "fd0b2322-fb52-4cf8-bd6a-858f1f9944d3"
   },
   "outputs": [
    {
     "data": {
      "text/plain": [
       "32"
      ]
     },
     "execution_count": 15,
     "metadata": {},
     "output_type": "execute_result"
    }
   ],
   "source": [
    "ord('a')-ord('A')"
   ]
  },
  {
   "cell_type": "code",
   "execution_count": null,
   "metadata": {
    "colab": {
     "base_uri": "https://localhost:8080/",
     "height": 36
    },
    "executionInfo": {
     "elapsed": 7,
     "status": "ok",
     "timestamp": 1717252582425,
     "user": {
      "displayName": "Abhilash Manikanta",
      "userId": "03760544981880881787"
     },
     "user_tz": -330
    },
    "id": "XoBqjKmCNbDg",
    "outputId": "56700d51-407d-41a6-ff73-1f6aee170302"
   },
   "outputs": [
    {
     "data": {
      "application/vnd.google.colaboratory.intrinsic+json": {
       "type": "string"
      },
      "text/plain": [
       "'HELLO 12CDE45 !EF@'"
      ]
     },
     "execution_count": 16,
     "metadata": {},
     "output_type": "execute_result"
    }
   ],
   "source": [
    "myStringUpper('hello 12cde45 !ef@')"
   ]
  },
  {
   "cell_type": "code",
   "execution_count": null,
   "metadata": {
    "id": "cah2F0RrNa_b"
   },
   "outputs": [],
   "source": []
  },
  {
   "cell_type": "code",
   "execution_count": null,
   "metadata": {
    "id": "gytzAwsuTGbw"
   },
   "outputs": [],
   "source": []
  },
  {
   "cell_type": "code",
   "execution_count": null,
   "metadata": {
    "colab": {
     "base_uri": "https://localhost:8080/",
     "height": 53
    },
    "executionInfo": {
     "elapsed": 15786,
     "status": "ok",
     "timestamp": 1717253202560,
     "user": {
      "displayName": "Abhilash Manikanta",
      "userId": "03760544981880881787"
     },
     "user_tz": -330
    },
    "id": "EcGmPH6wQ3aq",
    "outputId": "d8aa73d8-6e47-4242-f220-5f5d34d7316f"
   },
   "outputs": [
    {
     "name": "stdout",
     "output_type": "stream",
     "text": [
      "enter a string : AbCD 11!!sdf^^&\n"
     ]
    },
    {
     "data": {
      "application/vnd.google.colaboratory.intrinsic+json": {
       "type": "string"
      },
      "text/plain": [
       "'aBcd 11!!SDF^^&'"
      ]
     },
     "execution_count": 17,
     "metadata": {},
     "output_type": "execute_result"
    }
   ],
   "source": [
    "# code by Archana ma'am\n",
    "def myStringSwapCase(s):\n",
    "  y =\"\"\n",
    "  for i in s:\n",
    "    if ord(i) in range(97,123):\n",
    "      x = ord(i)-32\n",
    "      y+=chr(x)\n",
    "\n",
    "    elif ord(i) in range(65,91 ):\n",
    "      x = ord(i)+32\n",
    "      y+=chr(x)\n",
    "\n",
    "    else:\n",
    "      y+=i\n",
    "  return y\n",
    "s = input(\"enter a string : \")\n",
    "\n",
    "myStringSwapCase(s)"
   ]
  },
  {
   "cell_type": "markdown",
   "metadata": {
    "id": "OSnGUejhRwl5"
   },
   "source": [
    "* String Methods\n",
    "* Dictionary Methods\n",
    "* Set Methods\n",
    "* List Methods"
   ]
  },
  {
   "cell_type": "code",
   "execution_count": null,
   "metadata": {
    "id": "n_loDSZgQ3Vx"
   },
   "outputs": [],
   "source": [
    "lambda funcs\n",
    "higher order funcs\n",
    "map, filter reduce\n",
    "\n",
    "recurssion funcs\n",
    "\n",
    "\n",
    "modules\n",
    "\n",
    "namespace and scope\n",
    "\n",
    "intro oops"
   ]
  },
  {
   "cell_type": "code",
   "execution_count": null,
   "metadata": {
    "id": "VVLzmX1CQ3Pq"
   },
   "outputs": [],
   "source": [
    "# sorting"
   ]
  },
  {
   "cell_type": "code",
   "execution_count": null,
   "metadata": {
    "id": "UwxdMFqrQ3L9"
   },
   "outputs": [],
   "source": []
  },
  {
   "cell_type": "code",
   "execution_count": null,
   "metadata": {
    "colab": {
     "base_uri": "https://localhost:8080/"
    },
    "executionInfo": {
     "elapsed": 16,
     "status": "ok",
     "timestamp": 1717424453336,
     "user": {
      "displayName": "Abhilash Manikanta",
      "userId": "03760544981880881787"
     },
     "user_tz": -330
    },
    "id": "Z8uJyosSQ3Io",
    "outputId": "de84bf9f-0b78-45b8-d889-8e4d27c52d3e"
   },
   "outputs": [
    {
     "data": {
      "text/plain": [
       "<function __main__.<lambda>(r)>"
      ]
     },
     "execution_count": 1,
     "metadata": {},
     "output_type": "execute_result"
    }
   ],
   "source": [
    "# lamda funcs\n",
    "\n",
    "lambda r: (22/7)*(r**2)"
   ]
  },
  {
   "cell_type": "code",
   "execution_count": null,
   "metadata": {
    "colab": {
     "base_uri": "https://localhost:8080/"
    },
    "executionInfo": {
     "elapsed": 4,
     "status": "ok",
     "timestamp": 1717424503020,
     "user": {
      "displayName": "Abhilash Manikanta",
      "userId": "03760544981880881787"
     },
     "user_tz": -330
    },
    "id": "NT8iOCB8Q3Ey",
    "outputId": "d900c15b-2cfb-45a8-cdf8-084a81a923c9"
   },
   "outputs": [
    {
     "data": {
      "text/plain": [
       "78.57142857142857"
      ]
     },
     "execution_count": 2,
     "metadata": {},
     "output_type": "execute_result"
    }
   ],
   "source": [
    "areaOfCircle = lambda r: (22/7)*(r**2)\n",
    "areaOfCircle(5)"
   ]
  },
  {
   "cell_type": "code",
   "execution_count": null,
   "metadata": {
    "colab": {
     "base_uri": "https://localhost:8080/"
    },
    "executionInfo": {
     "elapsed": 459,
     "status": "ok",
     "timestamp": 1717424519326,
     "user": {
      "displayName": "Abhilash Manikanta",
      "userId": "03760544981880881787"
     },
     "user_tz": -330
    },
    "id": "TxxRMAGpQ3BR",
    "outputId": "1fca0cf5-f0de-40cd-8b96-5482ecea72bf"
   },
   "outputs": [
    {
     "data": {
      "text/plain": [
       "78.57142857142857"
      ]
     },
     "execution_count": 3,
     "metadata": {},
     "output_type": "execute_result"
    }
   ],
   "source": [
    "(lambda r: (22/7)*(r**2))(5)"
   ]
  },
  {
   "cell_type": "code",
   "execution_count": null,
   "metadata": {
    "id": "HzwsyfY-Q281"
   },
   "outputs": [],
   "source": []
  },
  {
   "cell_type": "code",
   "execution_count": null,
   "metadata": {
    "colab": {
     "base_uri": "https://localhost:8080/",
     "height": 35
    },
    "executionInfo": {
     "elapsed": 394,
     "status": "ok",
     "timestamp": 1717424970526,
     "user": {
      "displayName": "Abhilash Manikanta",
      "userId": "03760544981880881787"
     },
     "user_tz": -330
    },
    "id": "45WRabrCepH-",
    "outputId": "47b3360c-cb11-4765-a57d-58a361bc58b7"
   },
   "outputs": [
    {
     "data": {
      "application/vnd.google.colaboratory.intrinsic+json": {
       "type": "string"
      },
      "text/plain": [
       "'even'"
      ]
     },
     "execution_count": 4,
     "metadata": {},
     "output_type": "execute_result"
    }
   ],
   "source": [
    "# code by archana\n",
    "\n",
    "even_odd = lambda n : \"even\" if n%2 ==0 else \"odd\"\n",
    "even_odd(8)"
   ]
  },
  {
   "cell_type": "code",
   "execution_count": null,
   "metadata": {
    "colab": {
     "base_uri": "https://localhost:8080/",
     "height": 35
    },
    "executionInfo": {
     "elapsed": 8,
     "status": "ok",
     "timestamp": 1717425023564,
     "user": {
      "displayName": "Abhilash Manikanta",
      "userId": "03760544981880881787"
     },
     "user_tz": -330
    },
    "id": "g9rxGGGtepEY",
    "outputId": "5f850d1f-d57a-4b69-ea23-2a3fa7fbc73b"
   },
   "outputs": [
    {
     "data": {
      "application/vnd.google.colaboratory.intrinsic+json": {
       "type": "string"
      },
      "text/plain": [
       "'odd'"
      ]
     },
     "execution_count": 5,
     "metadata": {},
     "output_type": "execute_result"
    }
   ],
   "source": [
    "x = even_odd(11)\n",
    "x"
   ]
  },
  {
   "cell_type": "code",
   "execution_count": null,
   "metadata": {
    "colab": {
     "base_uri": "https://localhost:8080/"
    },
    "executionInfo": {
     "elapsed": 5,
     "status": "ok",
     "timestamp": 1717425184784,
     "user": {
      "displayName": "Abhilash Manikanta",
      "userId": "03760544981880881787"
     },
     "user_tz": -330
    },
    "id": "VD8EsK4kepAJ",
    "outputId": "8d10111e-e58b-4108-fd73-71cf7f279145"
   },
   "outputs": [
    {
     "data": {
      "text/plain": [
       "3.142857142857143"
      ]
     },
     "execution_count": 6,
     "metadata": {},
     "output_type": "execute_result"
    }
   ],
   "source": [
    "pi = 22/7\n",
    "pi"
   ]
  },
  {
   "cell_type": "code",
   "execution_count": null,
   "metadata": {
    "colab": {
     "base_uri": "https://localhost:8080/"
    },
    "executionInfo": {
     "elapsed": 4,
     "status": "ok",
     "timestamp": 1717425190691,
     "user": {
      "displayName": "Abhilash Manikanta",
      "userId": "03760544981880881787"
     },
     "user_tz": -330
    },
    "id": "XZArtr_zeo89",
    "outputId": "81d76474-79d2-4f0f-83f3-a2c816d7aef5"
   },
   "outputs": [
    {
     "data": {
      "text/plain": [
       "3"
      ]
     },
     "execution_count": 7,
     "metadata": {},
     "output_type": "execute_result"
    }
   ],
   "source": [
    "22//7"
   ]
  },
  {
   "cell_type": "code",
   "execution_count": null,
   "metadata": {
    "id": "SCZN7sWJjCPy"
   },
   "outputs": [],
   "source": []
  },
  {
   "cell_type": "code",
   "execution_count": null,
   "metadata": {
    "colab": {
     "base_uri": "https://localhost:8080/"
    },
    "executionInfo": {
     "elapsed": 6,
     "status": "ok",
     "timestamp": 1717425758174,
     "user": {
      "displayName": "Abhilash Manikanta",
      "userId": "03760544981880881787"
     },
     "user_tz": -330
    },
    "id": "pXZA66pQjCLp",
    "outputId": "e714c6de-9540-4364-af08-381ec1c85636"
   },
   "outputs": [
    {
     "name": "stdout",
     "output_type": "stream",
     "text": [
      "<map object at 0x7aa39a98cfd0> <class 'map'>\n"
     ]
    }
   ],
   "source": [
    "# map, filter, reduce\n",
    "\n",
    "# map\n",
    "\n",
    "z = map(lambda x: x**0.25, [16, 256, 81])\n",
    "print(z, type(z))"
   ]
  },
  {
   "cell_type": "code",
   "execution_count": null,
   "metadata": {
    "colab": {
     "base_uri": "https://localhost:8080/"
    },
    "executionInfo": {
     "elapsed": 4,
     "status": "ok",
     "timestamp": 1717425774056,
     "user": {
      "displayName": "Abhilash Manikanta",
      "userId": "03760544981880881787"
     },
     "user_tz": -330
    },
    "id": "iCrKTxC_jCID",
    "outputId": "2e262a06-49d5-4632-f531-917ad959f5b5"
   },
   "outputs": [
    {
     "data": {
      "text/plain": [
       "[2.0, 4.0, 3.0]"
      ]
     },
     "execution_count": 10,
     "metadata": {},
     "output_type": "execute_result"
    }
   ],
   "source": [
    "lz = list(z)\n",
    "lz"
   ]
  },
  {
   "cell_type": "code",
   "execution_count": null,
   "metadata": {
    "colab": {
     "base_uri": "https://localhost:8080/"
    },
    "executionInfo": {
     "elapsed": 4,
     "status": "ok",
     "timestamp": 1717425854330,
     "user": {
      "displayName": "Abhilash Manikanta",
      "userId": "03760544981880881787"
     },
     "user_tz": -330
    },
    "id": "gp5p4gjbjCDq",
    "outputId": "12aeb50d-fe8c-4d8d-a51d-e854c73e9cc9"
   },
   "outputs": [
    {
     "data": {
      "text/plain": [
       "[2.0, 4.0, 3.0]"
      ]
     },
     "execution_count": 11,
     "metadata": {},
     "output_type": "execute_result"
    }
   ],
   "source": [
    "[(lambda x: x**0.25)(16), (lambda x: x**0.25)(256), (lambda x: x**0.25)(81)]"
   ]
  },
  {
   "cell_type": "code",
   "execution_count": null,
   "metadata": {
    "colab": {
     "base_uri": "https://localhost:8080/"
    },
    "executionInfo": {
     "elapsed": 4,
     "status": "ok",
     "timestamp": 1717426038833,
     "user": {
      "displayName": "Abhilash Manikanta",
      "userId": "03760544981880881787"
     },
     "user_tz": -330
    },
    "id": "g0QmLNrcjB-r",
    "outputId": "f1265c7d-7c6d-4d53-8937-cd9fa9353929"
   },
   "outputs": [
    {
     "data": {
      "text/plain": [
       "(134843091963856, '0x7aa39a98cfd0')"
      ]
     },
     "execution_count": 13,
     "metadata": {},
     "output_type": "execute_result"
    }
   ],
   "source": [
    "id(z), hex(id(z))"
   ]
  },
  {
   "cell_type": "code",
   "execution_count": null,
   "metadata": {
    "colab": {
     "base_uri": "https://localhost:8080/"
    },
    "executionInfo": {
     "elapsed": 391,
     "status": "ok",
     "timestamp": 1717428082335,
     "user": {
      "displayName": "Abhilash Manikanta",
      "userId": "03760544981880881787"
     },
     "user_tz": -330
    },
    "id": "9QozXhZWrwve",
    "outputId": "655b5c76-f86d-4f78-8c7a-b98cfa25f2f1"
   },
   "outputs": [
    {
     "name": "stdout",
     "output_type": "stream",
     "text": [
      "<map object at 0x7aa384483400>\n",
      "<class 'map'>\n"
     ]
    }
   ],
   "source": [
    "z = map(lambda x: 10/x, [1, 2, 3, 4, 5, 0])\n",
    "print(z, type(z), sep = '\\n')"
   ]
  },
  {
   "cell_type": "code",
   "execution_count": null,
   "metadata": {
    "colab": {
     "base_uri": "https://localhost:8080/",
     "height": 211
    },
    "executionInfo": {
     "elapsed": 823,
     "status": "error",
     "timestamp": 1717428104370,
     "user": {
      "displayName": "Abhilash Manikanta",
      "userId": "03760544981880881787"
     },
     "user_tz": -330
    },
    "id": "Xig7sop7rwp8",
    "outputId": "24270798-fc3f-4dc8-87b2-9eb1d06f13d6"
   },
   "outputs": [
    {
     "ename": "ZeroDivisionError",
     "evalue": "division by zero",
     "output_type": "error",
     "traceback": [
      "\u001b[0;31m---------------------------------------------------------------------------\u001b[0m",
      "\u001b[0;31mZeroDivisionError\u001b[0m                         Traceback (most recent call last)",
      "\u001b[0;32m<ipython-input-22-6eeb7cc7ab08>\u001b[0m in \u001b[0;36m<cell line: 1>\u001b[0;34m()\u001b[0m\n\u001b[0;32m----> 1\u001b[0;31m \u001b[0mlist\u001b[0m\u001b[0;34m(\u001b[0m\u001b[0mz\u001b[0m\u001b[0;34m)\u001b[0m\u001b[0;34m\u001b[0m\u001b[0;34m\u001b[0m\u001b[0m\n\u001b[0m",
      "\u001b[0;32m<ipython-input-21-ab12efb90396>\u001b[0m in \u001b[0;36m<lambda>\u001b[0;34m(x)\u001b[0m\n\u001b[0;32m----> 1\u001b[0;31m \u001b[0mz\u001b[0m \u001b[0;34m=\u001b[0m \u001b[0mmap\u001b[0m\u001b[0;34m(\u001b[0m\u001b[0;32mlambda\u001b[0m \u001b[0mx\u001b[0m\u001b[0;34m:\u001b[0m \u001b[0;36m10\u001b[0m\u001b[0;34m/\u001b[0m\u001b[0mx\u001b[0m\u001b[0;34m,\u001b[0m \u001b[0;34m[\u001b[0m\u001b[0;36m1\u001b[0m\u001b[0;34m,\u001b[0m \u001b[0;36m2\u001b[0m\u001b[0;34m,\u001b[0m \u001b[0;36m3\u001b[0m\u001b[0;34m,\u001b[0m \u001b[0;36m4\u001b[0m\u001b[0;34m,\u001b[0m \u001b[0;36m5\u001b[0m\u001b[0;34m,\u001b[0m \u001b[0;36m0\u001b[0m\u001b[0;34m]\u001b[0m\u001b[0;34m)\u001b[0m\u001b[0;34m\u001b[0m\u001b[0;34m\u001b[0m\u001b[0m\n\u001b[0m\u001b[1;32m      2\u001b[0m \u001b[0mprint\u001b[0m\u001b[0;34m(\u001b[0m\u001b[0mz\u001b[0m\u001b[0;34m,\u001b[0m \u001b[0mtype\u001b[0m\u001b[0;34m(\u001b[0m\u001b[0mz\u001b[0m\u001b[0;34m)\u001b[0m\u001b[0;34m,\u001b[0m \u001b[0msep\u001b[0m \u001b[0;34m=\u001b[0m \u001b[0;34m'\\n'\u001b[0m\u001b[0;34m)\u001b[0m\u001b[0;34m\u001b[0m\u001b[0;34m\u001b[0m\u001b[0m\n",
      "\u001b[0;31mZeroDivisionError\u001b[0m: division by zero"
     ]
    }
   ],
   "source": [
    "list(z)"
   ]
  },
  {
   "cell_type": "code",
   "execution_count": null,
   "metadata": {
    "colab": {
     "base_uri": "https://localhost:8080/"
    },
    "executionInfo": {
     "elapsed": 457,
     "status": "ok",
     "timestamp": 1717428160558,
     "user": {
      "displayName": "Abhilash Manikanta",
      "userId": "03760544981880881787"
     },
     "user_tz": -330
    },
    "id": "EGRSYgB6rwjd",
    "outputId": "76fa4d0c-0a19-463b-fd45-a93dfce39f18"
   },
   "outputs": [
    {
     "name": "stdout",
     "output_type": "stream",
     "text": [
      "<map object at 0x7aa39a887e20>\n",
      "<class 'map'>\n"
     ]
    }
   ],
   "source": [
    "z = map(lambda x: 10/x, [1, 2, 3, 4, 5, 0])\n",
    "print(z, type(z), sep = '\\n')"
   ]
  },
  {
   "cell_type": "code",
   "execution_count": null,
   "metadata": {
    "colab": {
     "base_uri": "https://localhost:8080/",
     "height": 315
    },
    "executionInfo": {
     "elapsed": 40,
     "status": "error",
     "timestamp": 1717428178362,
     "user": {
      "displayName": "Abhilash Manikanta",
      "userId": "03760544981880881787"
     },
     "user_tz": -330
    },
    "id": "maSY7iI8mkwH",
    "outputId": "b75ae16c-7d40-467b-92d3-0bf4c89ad5bf"
   },
   "outputs": [
    {
     "name": "stdout",
     "output_type": "stream",
     "text": [
      "10.0\n",
      "5.0\n",
      "3.3333333333333335\n",
      "2.5\n",
      "2.0\n"
     ]
    },
    {
     "ename": "ZeroDivisionError",
     "evalue": "division by zero",
     "output_type": "error",
     "traceback": [
      "\u001b[0;31m---------------------------------------------------------------------------\u001b[0m",
      "\u001b[0;31mZeroDivisionError\u001b[0m                         Traceback (most recent call last)",
      "\u001b[0;32m<ipython-input-24-1107c8ce842f>\u001b[0m in \u001b[0;36m<cell line: 1>\u001b[0;34m()\u001b[0m\n\u001b[0;32m----> 1\u001b[0;31m \u001b[0;32mfor\u001b[0m \u001b[0mi\u001b[0m \u001b[0;32min\u001b[0m \u001b[0mz\u001b[0m\u001b[0;34m:\u001b[0m\u001b[0;34m\u001b[0m\u001b[0;34m\u001b[0m\u001b[0m\n\u001b[0m\u001b[1;32m      2\u001b[0m   \u001b[0mprint\u001b[0m\u001b[0;34m(\u001b[0m\u001b[0mi\u001b[0m\u001b[0;34m)\u001b[0m\u001b[0;34m\u001b[0m\u001b[0;34m\u001b[0m\u001b[0m\n",
      "\u001b[0;32m<ipython-input-23-ab12efb90396>\u001b[0m in \u001b[0;36m<lambda>\u001b[0;34m(x)\u001b[0m\n\u001b[0;32m----> 1\u001b[0;31m \u001b[0mz\u001b[0m \u001b[0;34m=\u001b[0m \u001b[0mmap\u001b[0m\u001b[0;34m(\u001b[0m\u001b[0;32mlambda\u001b[0m \u001b[0mx\u001b[0m\u001b[0;34m:\u001b[0m \u001b[0;36m10\u001b[0m\u001b[0;34m/\u001b[0m\u001b[0mx\u001b[0m\u001b[0;34m,\u001b[0m \u001b[0;34m[\u001b[0m\u001b[0;36m1\u001b[0m\u001b[0;34m,\u001b[0m \u001b[0;36m2\u001b[0m\u001b[0;34m,\u001b[0m \u001b[0;36m3\u001b[0m\u001b[0;34m,\u001b[0m \u001b[0;36m4\u001b[0m\u001b[0;34m,\u001b[0m \u001b[0;36m5\u001b[0m\u001b[0;34m,\u001b[0m \u001b[0;36m0\u001b[0m\u001b[0;34m]\u001b[0m\u001b[0;34m)\u001b[0m\u001b[0;34m\u001b[0m\u001b[0;34m\u001b[0m\u001b[0m\n\u001b[0m\u001b[1;32m      2\u001b[0m \u001b[0mprint\u001b[0m\u001b[0;34m(\u001b[0m\u001b[0mz\u001b[0m\u001b[0;34m,\u001b[0m \u001b[0mtype\u001b[0m\u001b[0;34m(\u001b[0m\u001b[0mz\u001b[0m\u001b[0;34m)\u001b[0m\u001b[0;34m,\u001b[0m \u001b[0msep\u001b[0m \u001b[0;34m=\u001b[0m \u001b[0;34m'\\n'\u001b[0m\u001b[0;34m)\u001b[0m\u001b[0;34m\u001b[0m\u001b[0;34m\u001b[0m\u001b[0m\n",
      "\u001b[0;31mZeroDivisionError\u001b[0m: division by zero"
     ]
    }
   ],
   "source": [
    "for i in z:\n",
    "  print(i)"
   ]
  },
  {
   "cell_type": "code",
   "execution_count": null,
   "metadata": {
    "colab": {
     "base_uri": "https://localhost:8080/"
    },
    "executionInfo": {
     "elapsed": 377,
     "status": "ok",
     "timestamp": 1717426683279,
     "user": {
      "displayName": "Abhilash Manikanta",
      "userId": "03760544981880881787"
     },
     "user_tz": -330
    },
    "id": "qpdnW1p8jB65",
    "outputId": "e76b428f-dd26-4cfd-8d8d-f0fabbd6835c"
   },
   "outputs": [
    {
     "name": "stdout",
     "output_type": "stream",
     "text": [
      "<filter object at 0x7aa39a887310> <class 'filter'>\n"
     ]
    }
   ],
   "source": [
    "# filter\n",
    "\n",
    "z = filter(lambda x: True if x%2==0 else False, range(1, 11))\n",
    "print(z, type(z))"
   ]
  },
  {
   "cell_type": "code",
   "execution_count": null,
   "metadata": {
    "colab": {
     "base_uri": "https://localhost:8080/"
    },
    "executionInfo": {
     "elapsed": 6,
     "status": "ok",
     "timestamp": 1717426700729,
     "user": {
      "displayName": "Abhilash Manikanta",
      "userId": "03760544981880881787"
     },
     "user_tz": -330
    },
    "id": "ICDrVtVkjB3U",
    "outputId": "433cd7a4-4af7-4cca-ccab-663d9441ca12"
   },
   "outputs": [
    {
     "data": {
      "text/plain": [
       "[2, 4, 6, 8, 10]"
      ]
     },
     "execution_count": 16,
     "metadata": {},
     "output_type": "execute_result"
    }
   ],
   "source": [
    "lz = list(z)\n",
    "lz"
   ]
  },
  {
   "cell_type": "code",
   "execution_count": null,
   "metadata": {
    "id": "elLjV0OJtQ-E"
   },
   "outputs": [],
   "source": []
  },
  {
   "cell_type": "code",
   "execution_count": null,
   "metadata": {
    "colab": {
     "base_uri": "https://localhost:8080/"
    },
    "executionInfo": {
     "elapsed": 45,
     "status": "ok",
     "timestamp": 1717428484553,
     "user": {
      "displayName": "Abhilash Manikanta",
      "userId": "03760544981880881787"
     },
     "user_tz": -330
    },
    "id": "BxLFUskqtQxc",
    "outputId": "5e982d26-8bfe-4c1d-e0bc-2d935c1b3ef8"
   },
   "outputs": [
    {
     "name": "stdout",
     "output_type": "stream",
     "text": [
      "<filter object at 0x7aa39a885ae0> <class 'filter'>\n"
     ]
    },
    {
     "data": {
      "text/plain": [
       "['abc']"
      ]
     },
     "execution_count": 27,
     "metadata": {},
     "output_type": "execute_result"
    }
   ],
   "source": [
    "z = filter(lambda x: True if bool(x)==True else False, [[], '', {}, (), 0, 'abc'] )\n",
    "print(z, type(z))\n",
    "lz = list(z)\n",
    "lz"
   ]
  },
  {
   "cell_type": "code",
   "execution_count": null,
   "metadata": {
    "id": "nbJ4zLQFtQiq"
   },
   "outputs": [],
   "source": [
    "def foo(x):\n",
    "  if x%2==0:\n",
    "    return True"
   ]
  },
  {
   "cell_type": "code",
   "execution_count": null,
   "metadata": {
    "colab": {
     "base_uri": "https://localhost:8080/"
    },
    "executionInfo": {
     "elapsed": 2984,
     "status": "ok",
     "timestamp": 1717428598595,
     "user": {
      "displayName": "Abhilash Manikanta",
      "userId": "03760544981880881787"
     },
     "user_tz": -330
    },
    "id": "hdVk4BgJtQW4",
    "outputId": "d41a37aa-aa0a-4f16-af87-09d3f298996d"
   },
   "outputs": [
    {
     "data": {
      "text/plain": [
       "<filter at 0x7aa39a884280>"
      ]
     },
     "execution_count": 29,
     "metadata": {},
     "output_type": "execute_result"
    }
   ],
   "source": [
    "filter(foo, range(1, 11))"
   ]
  },
  {
   "cell_type": "code",
   "execution_count": null,
   "metadata": {
    "colab": {
     "base_uri": "https://localhost:8080/"
    },
    "executionInfo": {
     "elapsed": 67,
     "status": "ok",
     "timestamp": 1717428640752,
     "user": {
      "displayName": "Abhilash Manikanta",
      "userId": "03760544981880881787"
     },
     "user_tz": -330
    },
    "id": "iZnYFCNhuM1a",
    "outputId": "fe1d7b22-07d8-4bb2-d12d-7984f177fe93"
   },
   "outputs": [
    {
     "data": {
      "text/plain": [
       "[2, 4, 6, 8, 10]"
      ]
     },
     "execution_count": 30,
     "metadata": {},
     "output_type": "execute_result"
    }
   ],
   "source": [
    "list(filter(foo, range(1, 11)))"
   ]
  },
  {
   "cell_type": "code",
   "execution_count": null,
   "metadata": {
    "id": "ACAVym9ojBzw"
   },
   "outputs": [],
   "source": [
    "# reduce\n",
    "import functools\n",
    "from functools import reduce"
   ]
  },
  {
   "cell_type": "code",
   "execution_count": null,
   "metadata": {
    "colab": {
     "base_uri": "https://localhost:8080/"
    },
    "executionInfo": {
     "elapsed": 381,
     "status": "ok",
     "timestamp": 1717427539638,
     "user": {
      "displayName": "Abhilash Manikanta",
      "userId": "03760544981880881787"
     },
     "user_tz": -330
    },
    "id": "rwXeqKUijBv_",
    "outputId": "b0445382-de28-4223-9105-f9846f5825d8"
   },
   "outputs": [
    {
     "data": {
      "text/plain": [
       "15"
      ]
     },
     "execution_count": 18,
     "metadata": {},
     "output_type": "execute_result"
    }
   ],
   "source": [
    "reduce(lambda x, y: x+y, range(1,6))"
   ]
  },
  {
   "cell_type": "code",
   "execution_count": null,
   "metadata": {
    "colab": {
     "base_uri": "https://localhost:8080/"
    },
    "executionInfo": {
     "elapsed": 6,
     "status": "ok",
     "timestamp": 1717427552050,
     "user": {
      "displayName": "Abhilash Manikanta",
      "userId": "03760544981880881787"
     },
     "user_tz": -330
    },
    "id": "XFLnSD6cjBsu",
    "outputId": "83ada805-0df9-4005-ef53-c056a397618b"
   },
   "outputs": [
    {
     "data": {
      "text/plain": [
       "-13"
      ]
     },
     "execution_count": 19,
     "metadata": {},
     "output_type": "execute_result"
    }
   ],
   "source": [
    "reduce(lambda x, y: x-y, range(1,6))"
   ]
  },
  {
   "cell_type": "code",
   "execution_count": null,
   "metadata": {
    "id": "k6WCJiegjBp-"
   },
   "outputs": [],
   "source": []
  },
  {
   "cell_type": "code",
   "execution_count": null,
   "metadata": {
    "colab": {
     "base_uri": "https://localhost:8080/"
    },
    "executionInfo": {
     "elapsed": 468,
     "status": "ok",
     "timestamp": 1717510643495,
     "user": {
      "displayName": "Abhilash Manikanta",
      "userId": "03760544981880881787"
     },
     "user_tz": -330
    },
    "id": "7XRxPcMrm95R",
    "outputId": "bbbd41aa-345c-4618-dc49-b40d95f51202"
   },
   "outputs": [
    {
     "name": "stdout",
     "output_type": "stream",
     "text": [
      "hello, Mahesh\n"
     ]
    }
   ],
   "source": [
    "def greet(x):\n",
    "  print(f'hello, {x}')\n",
    "\n",
    "greet('Mahesh')"
   ]
  },
  {
   "cell_type": "code",
   "execution_count": null,
   "metadata": {
    "id": "L2sZniqjm910"
   },
   "outputs": [],
   "source": [
    "#greet('M', 'R', 'S') #uncomment to see the error"
   ]
  },
  {
   "cell_type": "code",
   "execution_count": null,
   "metadata": {
    "id": "3stAdNOkm9y9"
   },
   "outputs": [],
   "source": [
    "def greet(*args, greeting = 'Holla'):\n",
    "  for arg in args:\n",
    "    print(f'{greeting}, {arg}')"
   ]
  },
  {
   "cell_type": "code",
   "execution_count": null,
   "metadata": {
    "colab": {
     "base_uri": "https://localhost:8080/"
    },
    "executionInfo": {
     "elapsed": 9,
     "status": "ok",
     "timestamp": 1717510895085,
     "user": {
      "displayName": "Abhilash Manikanta",
      "userId": "03760544981880881787"
     },
     "user_tz": -330
    },
    "id": "I8l9gwKqm9wF",
    "outputId": "96302ff2-c731-466d-bc18-2f8729a6d560"
   },
   "outputs": [
    {
     "name": "stdout",
     "output_type": "stream",
     "text": [
      "Hello, M\n",
      "Hello, R\n",
      "Hello, S\n"
     ]
    }
   ],
   "source": [
    "greet('M', 'R', 'S', greeting = 'Hello')"
   ]
  },
  {
   "cell_type": "code",
   "execution_count": null,
   "metadata": {
    "colab": {
     "base_uri": "https://localhost:8080/"
    },
    "executionInfo": {
     "elapsed": 5,
     "status": "ok",
     "timestamp": 1717510806911,
     "user": {
      "displayName": "Abhilash Manikanta",
      "userId": "03760544981880881787"
     },
     "user_tz": -330
    },
    "id": "cKRlJMJim9tL",
    "outputId": "4372dd20-95f4-4a45-d6c5-18e34cceec94"
   },
   "outputs": [
    {
     "name": "stdout",
     "output_type": "stream",
     "text": [
      "Holla! M\n"
     ]
    }
   ],
   "source": [
    "greet('M')"
   ]
  },
  {
   "cell_type": "code",
   "execution_count": null,
   "metadata": {
    "id": "HJrRFmA5m9px"
   },
   "outputs": [],
   "source": []
  },
  {
   "cell_type": "code",
   "execution_count": null,
   "metadata": {
    "id": "2C32yf8Jm9mN"
   },
   "outputs": [],
   "source": []
  },
  {
   "cell_type": "code",
   "execution_count": null,
   "metadata": {
    "id": "2Ir7XJeIm9jV"
   },
   "outputs": [],
   "source": [
    "def fooResult(*args):\n",
    "  return 'Pass' if min(args)>=35 else 'Fail'"
   ]
  },
  {
   "cell_type": "code",
   "execution_count": null,
   "metadata": {
    "colab": {
     "base_uri": "https://localhost:8080/",
     "height": 35
    },
    "executionInfo": {
     "elapsed": 6,
     "status": "ok",
     "timestamp": 1717511492966,
     "user": {
      "displayName": "Abhilash Manikanta",
      "userId": "03760544981880881787"
     },
     "user_tz": -330
    },
    "id": "ugbTNXKTm9gh",
    "outputId": "e3aaf198-2c07-43df-81f7-8b8131a3d821"
   },
   "outputs": [
    {
     "data": {
      "application/vnd.google.colaboratory.intrinsic+json": {
       "type": "string"
      },
      "text/plain": [
       "'P'"
      ]
     },
     "execution_count": 14,
     "metadata": {},
     "output_type": "execute_result"
    }
   ],
   "source": [
    "'P' if min([100, 80, 36]) >= 35 else 'F'"
   ]
  },
  {
   "cell_type": "code",
   "execution_count": null,
   "metadata": {
    "colab": {
     "base_uri": "https://localhost:8080/",
     "height": 35
    },
    "executionInfo": {
     "elapsed": 6,
     "status": "ok",
     "timestamp": 1717511578246,
     "user": {
      "displayName": "Abhilash Manikanta",
      "userId": "03760544981880881787"
     },
     "user_tz": -330
    },
    "id": "TyrfbxS6m9eO",
    "outputId": "b5199efc-fd54-4e56-9b14-9d91a0580d4a"
   },
   "outputs": [
    {
     "data": {
      "application/vnd.google.colaboratory.intrinsic+json": {
       "type": "string"
      },
      "text/plain": [
       "'Fail'"
      ]
     },
     "execution_count": 17,
     "metadata": {},
     "output_type": "execute_result"
    }
   ],
   "source": [
    "fooResult(100, 80, 36, 32)"
   ]
  },
  {
   "cell_type": "code",
   "execution_count": null,
   "metadata": {
    "id": "uJn8esmCm9Zc"
   },
   "outputs": [],
   "source": [
    "# wap which takes the students marks and returns percentage student scored. consider the max marks are 100 in each sub"
   ]
  },
  {
   "cell_type": "code",
   "execution_count": null,
   "metadata": {
    "colab": {
     "base_uri": "https://localhost:8080/"
    },
    "executionInfo": {
     "elapsed": 6,
     "status": "ok",
     "timestamp": 1717512049324,
     "user": {
      "displayName": "Abhilash Manikanta",
      "userId": "03760544981880881787"
     },
     "user_tz": -330
    },
    "id": "hKQeUrLsm9Wj",
    "outputId": "fe475fa3-f7f4-4f75-e48a-3ba5cbe53c63"
   },
   "outputs": [
    {
     "name": "stdout",
     "output_type": "stream",
     "text": [
      "64.0\n"
     ]
    }
   ],
   "source": [
    "# code by archana\n",
    "\n",
    "def studentResult(*args):\n",
    "  sum=0\n",
    "  count = 0\n",
    "\n",
    "  for x in args:\n",
    "    sum+=x\n",
    "    count+=1\n",
    "  res = sum/(count*100)\n",
    "  perc = res*100\n",
    "\n",
    "  return perc\n",
    "m = studentResult(45,56,76,87,44,76)\n",
    "print(f'{m}')"
   ]
  },
  {
   "cell_type": "code",
   "execution_count": null,
   "metadata": {
    "colab": {
     "base_uri": "https://localhost:8080/"
    },
    "executionInfo": {
     "elapsed": 474,
     "status": "ok",
     "timestamp": 1717512194822,
     "user": {
      "displayName": "Abhilash Manikanta",
      "userId": "03760544981880881787"
     },
     "user_tz": -330
    },
    "id": "v9QywRJGm9TU",
    "outputId": "18fc93d8-c215-470e-9eac-b11a090bede4"
   },
   "outputs": [
    {
     "data": {
      "text/plain": [
       "70.0"
      ]
     },
     "execution_count": 22,
     "metadata": {},
     "output_type": "execute_result"
    }
   ],
   "source": [
    "studentResult(*[100, 50, 60])"
   ]
  },
  {
   "cell_type": "code",
   "execution_count": null,
   "metadata": {
    "id": "_IqtIjzGm9Qm"
   },
   "outputs": [],
   "source": [
    "def resList(**kwargs):\n",
    "  pList = [t[0] for t in kwargs.items() if min(t[1])>=35]\n",
    "  fList = [t[0] for t in kwargs.items() if min(t[1])< 35]\n",
    "  return pList, fList"
   ]
  },
  {
   "cell_type": "code",
   "execution_count": null,
   "metadata": {
    "id": "W-LH317Km9NP"
   },
   "outputs": [],
   "source": [
    "plist, flist = resList(d = [100, 80, 50], m = [80, 54, 45], a = [32, 28, 95])"
   ]
  },
  {
   "cell_type": "code",
   "execution_count": null,
   "metadata": {
    "colab": {
     "base_uri": "https://localhost:8080/"
    },
    "executionInfo": {
     "elapsed": 481,
     "status": "ok",
     "timestamp": 1717513483775,
     "user": {
      "displayName": "Abhilash Manikanta",
      "userId": "03760544981880881787"
     },
     "user_tz": -330
    },
    "id": "exomwvjGtG4R",
    "outputId": "fb50a16b-a14c-4b3c-8531-4ece251a6757"
   },
   "outputs": [
    {
     "data": {
      "text/plain": [
       "['d', 'm']"
      ]
     },
     "execution_count": 25,
     "metadata": {},
     "output_type": "execute_result"
    }
   ],
   "source": [
    "plist"
   ]
  },
  {
   "cell_type": "code",
   "execution_count": null,
   "metadata": {
    "colab": {
     "base_uri": "https://localhost:8080/"
    },
    "executionInfo": {
     "elapsed": 5,
     "status": "ok",
     "timestamp": 1717513494144,
     "user": {
      "displayName": "Abhilash Manikanta",
      "userId": "03760544981880881787"
     },
     "user_tz": -330
    },
    "id": "bvb5_RsEtG0y",
    "outputId": "3d2a953e-53ff-4ff0-9128-7709cdc742d5"
   },
   "outputs": [
    {
     "data": {
      "text/plain": [
       "['a']"
      ]
     },
     "execution_count": 26,
     "metadata": {},
     "output_type": "execute_result"
    }
   ],
   "source": [
    "flist"
   ]
  },
  {
   "cell_type": "code",
   "execution_count": null,
   "metadata": {
    "id": "d0I6n36JtGxW"
   },
   "outputs": [],
   "source": [
    "# wap using kwargs which takes the student name and list marks. it should return a dict studentname as a key and percentage secured as corresponding value\n",
    "# max marks in each sub is 100\n",
    "# hint try using dictionary comprehenssion\n",
    "\n",
    "'''\n",
    "foo(a=[100, 80, 90], b = [50,50,60,60])\n",
    "res --> {'a': 90.0, 'b' : 55.0 }\n",
    "'''"
   ]
  },
  {
   "cell_type": "code",
   "execution_count": null,
   "metadata": {
    "colab": {
     "base_uri": "https://localhost:8080/"
    },
    "executionInfo": {
     "elapsed": 4,
     "status": "ok",
     "timestamp": 1717513951224,
     "user": {
      "displayName": "Abhilash Manikanta",
      "userId": "03760544981880881787"
     },
     "user_tz": -330
    },
    "id": "t7a_abbPtGt4",
    "outputId": "d364986f-5f9b-433f-8346-c9c2639986eb"
   },
   "outputs": [
    {
     "data": {
      "text/plain": [
       "55.00000000000001"
      ]
     },
     "execution_count": 29,
     "metadata": {},
     "output_type": "execute_result"
    }
   ],
   "source": [
    "((50+50+60+60)/400)*100"
   ]
  },
  {
   "cell_type": "code",
   "execution_count": null,
   "metadata": {
    "id": "f74fBr6NtGqh"
   },
   "outputs": [],
   "source": [
    "def foo(**kwargs):\n",
    "  d = {t[0]: (sum(t[1]) / (len(t[1]) * 100)) * 100 for t in kwargs.items()}\n",
    "  return d"
   ]
  },
  {
   "cell_type": "code",
   "execution_count": null,
   "metadata": {
    "colab": {
     "base_uri": "https://localhost:8080/"
    },
    "executionInfo": {
     "elapsed": 5,
     "status": "ok",
     "timestamp": 1717514414317,
     "user": {
      "displayName": "Abhilash Manikanta",
      "userId": "03760544981880881787"
     },
     "user_tz": -330
    },
    "id": "zP8MMcp5tGnJ",
    "outputId": "451b72df-7723-46c3-dcc9-66c5e0f2917f"
   },
   "outputs": [
    {
     "data": {
      "text/plain": [
       "{'d': 87.5, 'm': 59.66666666666667, 'a': 51.66666666666667}"
      ]
     },
     "execution_count": 36,
     "metadata": {},
     "output_type": "execute_result"
    }
   ],
   "source": [
    "# t[1] ---> a list\n",
    "\n",
    "foo(d = [100, 80, 90, 80 ], m = [80, 54, 45], a = [32, 28, 95])"
   ]
  },
  {
   "cell_type": "code",
   "execution_count": null,
   "metadata": {
    "colab": {
     "base_uri": "https://localhost:8080/"
    },
    "executionInfo": {
     "elapsed": 4,
     "status": "ok",
     "timestamp": 1717514255316,
     "user": {
      "displayName": "Abhilash Manikanta",
      "userId": "03760544981880881787"
     },
     "user_tz": -330
    },
    "id": "eB17B6VYtGj2",
    "outputId": "fd7e9293-16ac-46bc-dab1-6647c7da0ad9"
   },
   "outputs": [
    {
     "data": {
      "text/plain": [
       "(6, 3)"
      ]
     },
     "execution_count": 33,
     "metadata": {},
     "output_type": "execute_result"
    }
   ],
   "source": []
  },
  {
   "cell_type": "code",
   "execution_count": null,
   "metadata": {
    "id": "Vzxa4ZfrtGgp"
   },
   "outputs": [],
   "source": []
  },
  {
   "cell_type": "code",
   "execution_count": 3,
   "metadata": {
    "executionInfo": {
     "elapsed": 915,
     "status": "ok",
     "timestamp": 1717682277343,
     "user": {
      "displayName": "Abhilash Manikanta",
      "userId": "03760544981880881787"
     },
     "user_tz": -330
    },
    "id": "zJe9v0DhtGdj"
   },
   "outputs": [],
   "source": [
    "# decorators\n",
    "\n",
    "\n",
    "def greet():\n",
    "  print('welcome to the club!')\n",
    "\n"
   ]
  },
  {
   "cell_type": "code",
   "execution_count": 4,
   "metadata": {
    "executionInfo": {
     "elapsed": 3,
     "status": "ok",
     "timestamp": 1717682277896,
     "user": {
      "displayName": "Abhilash Manikanta",
      "userId": "03760544981880881787"
     },
     "user_tz": -330
    },
    "id": "7oj2rl2z1oiL"
   },
   "outputs": [],
   "source": [
    "def astrikDecorator(func):\n",
    "  def wrapper():\n",
    "    print('*' * 30)\n",
    "    func()\n",
    "    print('*' * 30)\n",
    "  return wrapper"
   ]
  },
  {
   "cell_type": "code",
   "execution_count": 6,
   "metadata": {
    "colab": {
     "base_uri": "https://localhost:8080/"
    },
    "executionInfo": {
     "elapsed": 19,
     "status": "ok",
     "timestamp": 1717682304854,
     "user": {
      "displayName": "Abhilash Manikanta",
      "userId": "03760544981880881787"
     },
     "user_tz": -330
    },
    "id": "C96n_L7G1oem",
    "outputId": "8764fff8-e51c-4a73-c4a8-f6311bec895e"
   },
   "outputs": [
    {
     "name": "stdout",
     "output_type": "stream",
     "text": [
      "******************************\n",
      "welcome to the club!\n",
      "******************************\n"
     ]
    }
   ],
   "source": [
    "z = astrikDecorator(greet)\n",
    "z()"
   ]
  },
  {
   "cell_type": "code",
   "execution_count": 7,
   "metadata": {
    "executionInfo": {
     "elapsed": 544,
     "status": "ok",
     "timestamp": 1717682416720,
     "user": {
      "displayName": "Abhilash Manikanta",
      "userId": "03760544981880881787"
     },
     "user_tz": -330
    },
    "id": "MfZaWZpx1oaz"
   },
   "outputs": [],
   "source": [
    "@astrikDecorator\n",
    "def greet():\n",
    "  print('welcome to the club!')"
   ]
  },
  {
   "cell_type": "code",
   "execution_count": 8,
   "metadata": {
    "colab": {
     "base_uri": "https://localhost:8080/"
    },
    "executionInfo": {
     "elapsed": 581,
     "status": "ok",
     "timestamp": 1717682829142,
     "user": {
      "displayName": "Abhilash Manikanta",
      "userId": "03760544981880881787"
     },
     "user_tz": -330
    },
    "id": "MkUCuJBw1oWZ",
    "outputId": "59e608db-53e5-413c-ecc9-d22bec124e47"
   },
   "outputs": [
    {
     "name": "stdout",
     "output_type": "stream",
     "text": [
      "******************************\n",
      "welcome to the club!\n",
      "******************************\n"
     ]
    }
   ],
   "source": [
    "greet()"
   ]
  },
  {
   "cell_type": "code",
   "execution_count": null,
   "metadata": {
    "id": "qBdJXVVd1oRG"
   },
   "outputs": [],
   "source": []
  },
  {
   "cell_type": "code",
   "execution_count": 9,
   "metadata": {
    "executionInfo": {
     "elapsed": 9,
     "status": "ok",
     "timestamp": 1717682917541,
     "user": {
      "displayName": "Abhilash Manikanta",
      "userId": "03760544981880881787"
     },
     "user_tz": -330
    },
    "id": "IOsDs7ng1oNi"
   },
   "outputs": [],
   "source": [
    "@astrikDecorator\n",
    "def f():\n",
    "  print('hi')"
   ]
  },
  {
   "cell_type": "code",
   "execution_count": 10,
   "metadata": {
    "colab": {
     "base_uri": "https://localhost:8080/"
    },
    "executionInfo": {
     "elapsed": 3,
     "status": "ok",
     "timestamp": 1717682922344,
     "user": {
      "displayName": "Abhilash Manikanta",
      "userId": "03760544981880881787"
     },
     "user_tz": -330
    },
    "id": "HvuXQ5Hz1oJ8",
    "outputId": "d56d26f6-ac60-4461-c8e3-00d62ee77c7e"
   },
   "outputs": [
    {
     "name": "stdout",
     "output_type": "stream",
     "text": [
      "******************************\n",
      "hi\n",
      "******************************\n"
     ]
    }
   ],
   "source": [
    "f()"
   ]
  },
  {
   "cell_type": "code",
   "execution_count": 14,
   "metadata": {
    "executionInfo": {
     "elapsed": 9,
     "status": "ok",
     "timestamp": 1717683247035,
     "user": {
      "displayName": "Abhilash Manikanta",
      "userId": "03760544981880881787"
     },
     "user_tz": -330
    },
    "id": "UdgEw7i01oGM"
   },
   "outputs": [],
   "source": [
    "def astrikDecorator(func):\n",
    "  def wrapper(*args, **kwargs):\n",
    "    print('*' * 30)\n",
    "    func(*args, **kwargs)\n",
    "    print('*' * 30)\n",
    "  return wrapper"
   ]
  },
  {
   "cell_type": "code",
   "execution_count": 17,
   "metadata": {
    "executionInfo": {
     "elapsed": 791,
     "status": "ok",
     "timestamp": 1717683622463,
     "user": {
      "displayName": "Abhilash Manikanta",
      "userId": "03760544981880881787"
     },
     "user_tz": -330
    },
    "id": "poT0Qkgf646j"
   },
   "outputs": [],
   "source": [
    "def pipeDecorator(func):\n",
    "  def wrapper(*args, **kwargs):\n",
    "    print('|' * 30)\n",
    "    func(*args, **kwargs)\n",
    "    print('|' * 30)\n",
    "  return wrapper"
   ]
  },
  {
   "cell_type": "code",
   "execution_count": 15,
   "metadata": {
    "executionInfo": {
     "elapsed": 5,
     "status": "ok",
     "timestamp": 1717683249354,
     "user": {
      "displayName": "Abhilash Manikanta",
      "userId": "03760544981880881787"
     },
     "user_tz": -330
    },
    "id": "DJWju8uh1oCV"
   },
   "outputs": [],
   "source": [
    "@astrikDecorator\n",
    "def greet(name, greeting):\n",
    "  print(f'{greeting}, {name}')"
   ]
  },
  {
   "cell_type": "code",
   "execution_count": 16,
   "metadata": {
    "colab": {
     "base_uri": "https://localhost:8080/"
    },
    "executionInfo": {
     "elapsed": 4,
     "status": "ok",
     "timestamp": 1717683251364,
     "user": {
      "displayName": "Abhilash Manikanta",
      "userId": "03760544981880881787"
     },
     "user_tz": -330
    },
    "id": "4Xx5qZrz1n-j",
    "outputId": "2edc9473-5ad6-4698-c83e-b697d75fd491"
   },
   "outputs": [
    {
     "name": "stdout",
     "output_type": "stream",
     "text": [
      "******************************\n",
      "hello, bob\n",
      "******************************\n"
     ]
    }
   ],
   "source": [
    "greet('bob', 'hello')"
   ]
  },
  {
   "cell_type": "code",
   "execution_count": 18,
   "metadata": {
    "executionInfo": {
     "elapsed": 2,
     "status": "ok",
     "timestamp": 1717683647060,
     "user": {
      "displayName": "Abhilash Manikanta",
      "userId": "03760544981880881787"
     },
     "user_tz": -330
    },
    "id": "DI1HeVTJ1n7E"
   },
   "outputs": [],
   "source": [
    "@pipeDecorator\n",
    "@astrikDecorator\n",
    "def greet(name, greeting):\n",
    "  print(f'{greeting}, {name}')"
   ]
  },
  {
   "cell_type": "code",
   "execution_count": 20,
   "metadata": {
    "colab": {
     "base_uri": "https://localhost:8080/"
    },
    "executionInfo": {
     "elapsed": 9,
     "status": "ok",
     "timestamp": 1717683667184,
     "user": {
      "displayName": "Abhilash Manikanta",
      "userId": "03760544981880881787"
     },
     "user_tz": -330
    },
    "id": "o7jslzsp1n3J",
    "outputId": "54a725e7-ef88-4be5-e5d4-084b3983f7f2"
   },
   "outputs": [
    {
     "name": "stdout",
     "output_type": "stream",
     "text": [
      "||||||||||||||||||||||||||||||\n",
      "******************************\n",
      "holla, bob\n",
      "******************************\n",
      "||||||||||||||||||||||||||||||\n"
     ]
    }
   ],
   "source": [
    "greet('bob', 'holla')"
   ]
  },
  {
   "cell_type": "code",
   "execution_count": null,
   "metadata": {
    "id": "iqgWj11qtGa1"
   },
   "outputs": [],
   "source": []
  },
  {
   "cell_type": "code",
   "execution_count": 24,
   "metadata": {
    "executionInfo": {
     "elapsed": 518,
     "status": "ok",
     "timestamp": 1717684168124,
     "user": {
      "displayName": "Abhilash Manikanta",
      "userId": "03760544981880881787"
     },
     "user_tz": -330
    },
    "id": "4kSLO8Oz7_8Z"
   },
   "outputs": [],
   "source": [
    "def srtingSwapcase(f):\n",
    "  def wrapper(*args, **kwargs):\n",
    "    x = f(*args, **kwargs)\n",
    "    return x.swapcase()\n",
    "  return wrapper"
   ]
  },
  {
   "cell_type": "code",
   "execution_count": 21,
   "metadata": {
    "executionInfo": {
     "elapsed": 3,
     "status": "ok",
     "timestamp": 1717684074984,
     "user": {
      "displayName": "Abhilash Manikanta",
      "userId": "03760544981880881787"
     },
     "user_tz": -330
    },
    "id": "hGy4Fqju7_40"
   },
   "outputs": [],
   "source": [
    "def foo(a):\n",
    "  z = filter(lambda x: True if x.isalpha() else False, a)\n",
    "  lz = list(z)\n",
    "  r = ''.join(lz)\n",
    "  return r\n"
   ]
  },
  {
   "cell_type": "code",
   "execution_count": 22,
   "metadata": {
    "colab": {
     "base_uri": "https://localhost:8080/",
     "height": 36
    },
    "executionInfo": {
     "elapsed": 11,
     "status": "ok",
     "timestamp": 1717684097454,
     "user": {
      "displayName": "Abhilash Manikanta",
      "userId": "03760544981880881787"
     },
     "user_tz": -330
    },
    "id": "4knPSemo7_1U",
    "outputId": "5a51d3b7-24ba-4efa-820f-ed52df8b9e3b"
   },
   "outputs": [
    {
     "data": {
      "application/vnd.google.colaboratory.intrinsic+json": {
       "type": "string"
      },
      "text/plain": [
       "'aBcD'"
      ]
     },
     "execution_count": 22,
     "metadata": {},
     "output_type": "execute_result"
    }
   ],
   "source": [
    "foo('a1B2$c D')"
   ]
  },
  {
   "cell_type": "code",
   "execution_count": 25,
   "metadata": {
    "executionInfo": {
     "elapsed": 909,
     "status": "ok",
     "timestamp": 1717684190914,
     "user": {
      "displayName": "Abhilash Manikanta",
      "userId": "03760544981880881787"
     },
     "user_tz": -330
    },
    "id": "7y5wN9aG7_xs"
   },
   "outputs": [],
   "source": [
    "@srtingSwapcase\n",
    "def foo(a):\n",
    "  z = filter(lambda x: True if x.isalpha() else False, a)\n",
    "  lz = list(z)\n",
    "  r = ''.join(lz)\n",
    "  return r\n"
   ]
  },
  {
   "cell_type": "code",
   "execution_count": 26,
   "metadata": {
    "colab": {
     "base_uri": "https://localhost:8080/",
     "height": 36
    },
    "executionInfo": {
     "elapsed": 709,
     "status": "ok",
     "timestamp": 1717684205303,
     "user": {
      "displayName": "Abhilash Manikanta",
      "userId": "03760544981880881787"
     },
     "user_tz": -330
    },
    "id": "OjyLBiLN7_tf",
    "outputId": "349506d4-bf30-4e7f-fdd4-39a2f0a948ea"
   },
   "outputs": [
    {
     "data": {
      "application/vnd.google.colaboratory.intrinsic+json": {
       "type": "string"
      },
      "text/plain": [
       "'AbCd'"
      ]
     },
     "execution_count": 26,
     "metadata": {},
     "output_type": "execute_result"
    }
   ],
   "source": [
    "foo('a1B2$c D')"
   ]
  },
  {
   "cell_type": "code",
   "execution_count": 28,
   "metadata": {
    "executionInfo": {
     "elapsed": 8,
     "status": "ok",
     "timestamp": 1717684380324,
     "user": {
      "displayName": "Abhilash Manikanta",
      "userId": "03760544981880881787"
     },
     "user_tz": -330
    },
    "id": "IhGTNyeN7_oG"
   },
   "outputs": [],
   "source": [
    "def stringSplit(f):\n",
    "  def wrapper(*args, **kwargs):\n",
    "    x = f(*args, **kwargs)\n",
    "    z = []\n",
    "    for char in x:\n",
    "      z.append(char)\n",
    "    return z\n",
    "  return wrapper"
   ]
  },
  {
   "cell_type": "code",
   "execution_count": null,
   "metadata": {
    "id": "qH3sm_ay7_jH"
   },
   "outputs": [],
   "source": []
  },
  {
   "cell_type": "code",
   "execution_count": 29,
   "metadata": {
    "executionInfo": {
     "elapsed": 3,
     "status": "ok",
     "timestamp": 1717684387027,
     "user": {
      "displayName": "Abhilash Manikanta",
      "userId": "03760544981880881787"
     },
     "user_tz": -330
    },
    "id": "ckiZjp6Z7_f1"
   },
   "outputs": [],
   "source": [
    "@stringSplit\n",
    "@srtingSwapcase\n",
    "def foo(a):\n",
    "  z = filter(lambda x: True if x.isalpha() else False, a)\n",
    "  lz = list(z)\n",
    "  r = ''.join(lz)\n",
    "  return r"
   ]
  },
  {
   "cell_type": "code",
   "execution_count": 30,
   "metadata": {
    "colab": {
     "base_uri": "https://localhost:8080/"
    },
    "executionInfo": {
     "elapsed": 8,
     "status": "ok",
     "timestamp": 1717684399987,
     "user": {
      "displayName": "Abhilash Manikanta",
      "userId": "03760544981880881787"
     },
     "user_tz": -330
    },
    "id": "leYLjU5Z7_bX",
    "outputId": "27b62700-155d-41a4-b157-845366ea1741"
   },
   "outputs": [
    {
     "data": {
      "text/plain": [
       "['A', 'b', 'C', 'd']"
      ]
     },
     "execution_count": 30,
     "metadata": {},
     "output_type": "execute_result"
    }
   ],
   "source": [
    "foo('a1B2$c D')"
   ]
  },
  {
   "cell_type": "code",
   "execution_count": null,
   "metadata": {
    "id": "HFyLcYHm7_Xs"
   },
   "outputs": [],
   "source": []
  },
  {
   "cell_type": "code",
   "execution_count": 48,
   "metadata": {
    "executionInfo": {
     "elapsed": 7,
     "status": "ok",
     "timestamp": 1717685394394,
     "user": {
      "displayName": "Abhilash Manikanta",
      "userId": "03760544981880881787"
     },
     "user_tz": -330
    },
    "id": "QnqTwMTZ-CZT"
   },
   "outputs": [],
   "source": [
    "def cyclVol(f, h = 10):\n",
    "  def wrapper(*args, h):\n",
    "    a = f(*args)\n",
    "    return a*h\n",
    "  return wrapper\n",
    "\n",
    "def circleArea(f):\n",
    "  def wrapper(*args, pi = (22/7)):\n",
    "    a = f(*args)\n",
    "    return a*pi\n",
    "  return wrapper\n",
    "\n",
    "def radius(r):\n",
    "  return r**2"
   ]
  },
  {
   "cell_type": "code",
   "execution_count": 38,
   "metadata": {
    "colab": {
     "base_uri": "https://localhost:8080/"
    },
    "executionInfo": {
     "elapsed": 3,
     "status": "ok",
     "timestamp": 1717684822205,
     "user": {
      "displayName": "Abhilash Manikanta",
      "userId": "03760544981880881787"
     },
     "user_tz": -330
    },
    "id": "ptNEhT3P-CVe",
    "outputId": "6d7b9cfd-0c94-4234-e4b6-dbd4164f9b3b"
   },
   "outputs": [
    {
     "data": {
      "text/plain": [
       "25"
      ]
     },
     "execution_count": 38,
     "metadata": {},
     "output_type": "execute_result"
    }
   ],
   "source": [
    "radius(5)"
   ]
  },
  {
   "cell_type": "code",
   "execution_count": 39,
   "metadata": {
    "executionInfo": {
     "elapsed": 3,
     "status": "ok",
     "timestamp": 1717684823985,
     "user": {
      "displayName": "Abhilash Manikanta",
      "userId": "03760544981880881787"
     },
     "user_tz": -330
    },
    "id": "PmUVc-7A-CR0"
   },
   "outputs": [],
   "source": [
    "@circleArea\n",
    "def radius(r):\n",
    "  return r**2"
   ]
  },
  {
   "cell_type": "code",
   "execution_count": 40,
   "metadata": {
    "colab": {
     "base_uri": "https://localhost:8080/"
    },
    "executionInfo": {
     "elapsed": 4,
     "status": "ok",
     "timestamp": 1717684826529,
     "user": {
      "displayName": "Abhilash Manikanta",
      "userId": "03760544981880881787"
     },
     "user_tz": -330
    },
    "id": "rwJV_SYI-CN-",
    "outputId": "81e28dd9-3b25-4692-8f87-c9f97ba5a7b6"
   },
   "outputs": [
    {
     "data": {
      "text/plain": [
       "78.57142857142857"
      ]
     },
     "execution_count": 40,
     "metadata": {},
     "output_type": "execute_result"
    }
   ],
   "source": [
    "radius(5)"
   ]
  },
  {
   "cell_type": "code",
   "execution_count": 45,
   "metadata": {
    "executionInfo": {
     "elapsed": 4,
     "status": "ok",
     "timestamp": 1717685222051,
     "user": {
      "displayName": "Abhilash Manikanta",
      "userId": "03760544981880881787"
     },
     "user_tz": -330
    },
    "id": "SbSsjnD3-CJ2"
   },
   "outputs": [],
   "source": [
    "@cyclVol\n",
    "@circleArea\n",
    "def radius(r):\n",
    "  return r**2"
   ]
  },
  {
   "cell_type": "code",
   "execution_count": 46,
   "metadata": {
    "colab": {
     "base_uri": "https://localhost:8080/"
    },
    "executionInfo": {
     "elapsed": 550,
     "status": "ok",
     "timestamp": 1717685227428,
     "user": {
      "displayName": "Abhilash Manikanta",
      "userId": "03760544981880881787"
     },
     "user_tz": -330
    },
    "id": "7miLuc6r-CGJ",
    "outputId": "1b11cc24-15a3-464b-d202-0645e011c9fe"
   },
   "outputs": [
    {
     "data": {
      "text/plain": [
       "785.7142857142857"
      ]
     },
     "execution_count": 46,
     "metadata": {},
     "output_type": "execute_result"
    }
   ],
   "source": [
    "radius(5)"
   ]
  },
  {
   "cell_type": "code",
   "execution_count": 65,
   "metadata": {
    "executionInfo": {
     "elapsed": 514,
     "status": "ok",
     "timestamp": 1717687579292,
     "user": {
      "displayName": "Abhilash Manikanta",
      "userId": "03760544981880881787"
     },
     "user_tz": -330
    },
    "id": "Ifyl6PlL-CCo"
   },
   "outputs": [],
   "source": [
    "def cyclVol(h):\n",
    "  def outerWrapper(f):\n",
    "    def wrapper(*args):\n",
    "      a = f(*args)\n",
    "      return a*h\n",
    "    return wrapper\n",
    "  return outerWrapper\n",
    "\n",
    "def circleArea(f):\n",
    "  def wrapper(*args, pi = (22/7)):\n",
    "    a = f(*args)\n",
    "    return a*pi\n",
    "  return wrapper\n",
    "\n",
    "\n",
    "@cyclVol(h=5)\n",
    "@circleArea\n",
    "def radius(r):\n",
    "  return r**2\n",
    "\n"
   ]
  },
  {
   "cell_type": "code",
   "execution_count": 66,
   "metadata": {
    "colab": {
     "base_uri": "https://localhost:8080/"
    },
    "executionInfo": {
     "elapsed": 471,
     "status": "ok",
     "timestamp": 1717687583998,
     "user": {
      "displayName": "Abhilash Manikanta",
      "userId": "03760544981880881787"
     },
     "user_tz": -330
    },
    "id": "ah0kN3tA-B-z",
    "outputId": "e29de747-1c95-483a-eb9d-a6c206945500"
   },
   "outputs": [
    {
     "data": {
      "text/plain": [
       "392.85714285714283"
      ]
     },
     "execution_count": 66,
     "metadata": {},
     "output_type": "execute_result"
    }
   ],
   "source": [
    "radius(5)"
   ]
  },
  {
   "cell_type": "code",
   "execution_count": 67,
   "metadata": {
    "colab": {
     "base_uri": "https://localhost:8080/",
     "height": 53
    },
    "executionInfo": {
     "elapsed": 472,
     "status": "ok",
     "timestamp": 1717688129956,
     "user": {
      "displayName": "Abhilash Manikanta",
      "userId": "03760544981880881787"
     },
     "user_tz": -330
    },
    "id": "pfEMp1Nt-B7a",
    "outputId": "3d013a56-3d8f-4960-af8f-50fc6de8d67a"
   },
   "outputs": [
    {
     "data": {
      "application/vnd.google.colaboratory.intrinsic+json": {
       "type": "string"
      },
      "text/plain": [
       "'\\nTask --->\\n1.1) explore and understand the fib series\\n1.2) write a wap without recurssion which prints starting n fib numbers\\n1.3) write a wap with recurssion which prints starting n fib numbers\\n1.4) draw and explain the stack for above recurssion func\\n'"
      ]
     },
     "execution_count": 67,
     "metadata": {},
     "output_type": "execute_result"
    }
   ],
   "source": [
    "'''\n",
    "Task --->\n",
    "1.1) explore and understand the fib series\n",
    "1.2) write a wap without recurssion which prints starting n fib numbers\n",
    "1.3) write a wap with recurssion which prints starting n fib numbers\n",
    "1.4) draw and explain the stack for above recurssion func\n",
    "'''\n"
   ]
  },
  {
   "cell_type": "code",
   "execution_count": null,
   "metadata": {
    "id": "XBjCwBpo-B3S"
   },
   "outputs": [],
   "source": []
  },
  {
   "cell_type": "code",
   "execution_count": null,
   "metadata": {
    "id": "q-8YsNCA-Bz9"
   },
   "outputs": [],
   "source": [
    "# code by mallika ma'am\n",
    "n=int(input())\n",
    "mul=1\n",
    "for i in range(1,n+1):\n",
    "  mul*=i\n",
    "print(mul)"
   ]
  },
  {
   "cell_type": "code",
   "execution_count": 54,
   "metadata": {
    "executionInfo": {
     "elapsed": 6,
     "status": "ok",
     "timestamp": 1717686195787,
     "user": {
      "displayName": "Abhilash Manikanta",
      "userId": "03760544981880881787"
     },
     "user_tz": -330
    },
    "id": "X5O3Moym-BwH"
   },
   "outputs": [],
   "source": [
    "# code by archana ma'am\n",
    "def foo(num):\n",
    "  n = 5\n",
    "  i=1\n",
    "  f = 1\n",
    "  while i<=5:\n",
    "    f= f * i\n",
    "    i+=1\n",
    "  return f"
   ]
  },
  {
   "cell_type": "code",
   "execution_count": 55,
   "metadata": {
    "colab": {
     "base_uri": "https://localhost:8080/"
    },
    "executionInfo": {
     "elapsed": 5,
     "status": "ok",
     "timestamp": 1717686203017,
     "user": {
      "displayName": "Abhilash Manikanta",
      "userId": "03760544981880881787"
     },
     "user_tz": -330
    },
    "id": "3zj3LpjP-Bsg",
    "outputId": "20004be8-a1b9-469e-d6dd-c4cc7617a2d4"
   },
   "outputs": [
    {
     "data": {
      "text/plain": [
       "120"
      ]
     },
     "execution_count": 55,
     "metadata": {},
     "output_type": "execute_result"
    }
   ],
   "source": [
    "foo(5)"
   ]
  },
  {
   "cell_type": "code",
   "execution_count": 58,
   "metadata": {
    "executionInfo": {
     "elapsed": 5,
     "status": "ok",
     "timestamp": 1717686327569,
     "user": {
      "displayName": "Abhilash Manikanta",
      "userId": "03760544981880881787"
     },
     "user_tz": -330
    },
    "id": "pnkjXDqy-Bo1"
   },
   "outputs": [],
   "source": [
    "def fact(num):\n",
    "  x, i = num, 1\n",
    "  while x>1:\n",
    "    i*=x\n",
    "    x-=1\n",
    "  return i"
   ]
  },
  {
   "cell_type": "code",
   "execution_count": 59,
   "metadata": {
    "colab": {
     "base_uri": "https://localhost:8080/"
    },
    "executionInfo": {
     "elapsed": 4,
     "status": "ok",
     "timestamp": 1717686327569,
     "user": {
      "displayName": "Abhilash Manikanta",
      "userId": "03760544981880881787"
     },
     "user_tz": -330
    },
    "id": "eA4LJDeME57g",
    "outputId": "4ffedbc7-563d-47ba-c975-a90ba79261c4"
   },
   "outputs": [
    {
     "data": {
      "text/plain": [
       "120"
      ]
     },
     "execution_count": 59,
     "metadata": {},
     "output_type": "execute_result"
    }
   ],
   "source": [
    "fact(5)"
   ]
  },
  {
   "cell_type": "code",
   "execution_count": 60,
   "metadata": {
    "executionInfo": {
     "elapsed": 482,
     "status": "ok",
     "timestamp": 1717686964852,
     "user": {
      "displayName": "Abhilash Manikanta",
      "userId": "03760544981880881787"
     },
     "user_tz": -330
    },
    "id": "6qqSqRT_E52e"
   },
   "outputs": [],
   "source": [
    "def factR(num):\n",
    "  if num <0:\n",
    "    print('factorial of -ve numbers do not exist yet')\n",
    "  elif num == 0:\n",
    "    return 1\n",
    "  else:\n",
    "    return num*factR(num-1)"
   ]
  },
  {
   "cell_type": "code",
   "execution_count": 61,
   "metadata": {
    "colab": {
     "base_uri": "https://localhost:8080/"
    },
    "executionInfo": {
     "elapsed": 588,
     "status": "ok",
     "timestamp": 1717686976169,
     "user": {
      "displayName": "Abhilash Manikanta",
      "userId": "03760544981880881787"
     },
     "user_tz": -330
    },
    "id": "0Jo7VQbiE5yG",
    "outputId": "7e48c7a8-7e55-4a69-d82e-f83c3c125fc2"
   },
   "outputs": [
    {
     "data": {
      "text/plain": [
       "120"
      ]
     },
     "execution_count": 61,
     "metadata": {},
     "output_type": "execute_result"
    }
   ],
   "source": [
    "factR(5)"
   ]
  },
  {
   "cell_type": "code",
   "execution_count": 64,
   "metadata": {
    "colab": {
     "base_uri": "https://localhost:8080/",
     "height": 36
    },
    "executionInfo": {
     "elapsed": 554,
     "status": "ok",
     "timestamp": 1717687365111,
     "user": {
      "displayName": "Abhilash Manikanta",
      "userId": "03760544981880881787"
     },
     "user_tz": -330
    },
    "id": "kbbFmzXuE5tn",
    "outputId": "268141f5-a0fa-48bc-eb14-5db55ec7691f"
   },
   "outputs": [
    {
     "data": {
      "application/vnd.google.colaboratory.intrinsic+json": {
       "type": "string"
      },
      "text/plain": [
       "'\\ndef factR(num):\\n  print(num)\\n  return num * factR(num-1)\\n\\nfactR(5)\\n'"
      ]
     },
     "execution_count": 64,
     "metadata": {},
     "output_type": "execute_result"
    }
   ],
   "source": [
    "'''\n",
    "def factR(num):\n",
    "  print(num)\n",
    "  return num * factR(num-1)\n",
    "\n",
    "factR(5)\n",
    "'''\n",
    "\n",
    "#uncomment above lines to see the error"
   ]
  },
  {
   "cell_type": "code",
   "execution_count": null,
   "metadata": {
    "id": "wKU1TNugE5p2"
   },
   "outputs": [],
   "source": []
  },
  {
   "cell_type": "code",
   "execution_count": null,
   "metadata": {
    "id": "SBR8TgH1E5l9"
   },
   "outputs": [],
   "source": []
  },
  {
   "cell_type": "code",
   "execution_count": null,
   "metadata": {
    "id": "rvHKS1j2V8W7"
   },
   "outputs": [],
   "source": [
    "# step - 1 --> defining a func\n",
    "\n",
    "def greetFunc(name): # name is parameter\n",
    "\n",
    "  print(f'Holla {name}, how are you?')\n",
    "  print('our e=xecutibve will be with you in short time')\n",
    "  print(f'{name} please rate exp')\n",
    "  print(f'bye {name}')\n",
    "  print(name)"
   ]
  },
  {
   "cell_type": "code",
   "execution_count": null,
   "metadata": {
    "colab": {
     "base_uri": "https://localhost:8080/"
    },
    "executionInfo": {
     "elapsed": 6,
     "status": "ok",
     "timestamp": 1716995667197,
     "user": {
      "displayName": "Abhilash Manikanta",
      "userId": "03760544981880881787"
     },
     "user_tz": -330
    },
    "id": "7hZDBz1NWBEE",
    "outputId": "525547a6-b1a2-4fca-d12a-ed17b5bb9b33"
   },
   "outputs": [
    {
     "name": "stdout",
     "output_type": "stream",
     "text": [
      "Holla Bhargav, how are you?\n",
      "our e=xecutibve will be with you in short time\n",
      "Bhargav please rate exp\n",
      "bye Bhargav\n",
      "Bhargav\n"
     ]
    }
   ],
   "source": [
    "# step - 2 ----> calling the func\n",
    "# actual values are passed at time of calling a func\n",
    "\n",
    "\n",
    "#greetFunc() #uncomment to see the error\n",
    "\n",
    "greetFunc('Bhargav') # Bhargav is an argument\n",
    "# arguement is nothing but an actual value"
   ]
  },
  {
   "cell_type": "code",
   "execution_count": null,
   "metadata": {
    "id": "KZnJK1N1WBBF"
   },
   "outputs": [],
   "source": []
  },
  {
   "cell_type": "code",
   "execution_count": null,
   "metadata": {
    "colab": {
     "base_uri": "https://localhost:8080/"
    },
    "executionInfo": {
     "elapsed": 5,
     "status": "ok",
     "timestamp": 1716994463672,
     "user": {
      "displayName": "Abhilash Manikanta",
      "userId": "03760544981880881787"
     },
     "user_tz": -330
    },
    "id": "HsITm7r_WA-g",
    "outputId": "c99e4825-e48c-4e56-c44f-4e96b3670432"
   },
   "outputs": [
    {
     "name": "stdout",
     "output_type": "stream",
     "text": [
      "Holla, how are you?\n",
      "our e=xecutibve will be with you in short time\n",
      "rate exp\n",
      "bye\n"
     ]
    }
   ],
   "source": [
    "greetFunc()"
   ]
  },
  {
   "cell_type": "code",
   "execution_count": null,
   "metadata": {
    "colab": {
     "base_uri": "https://localhost:8080/"
    },
    "executionInfo": {
     "elapsed": 3,
     "status": "ok",
     "timestamp": 1716994465492,
     "user": {
      "displayName": "Abhilash Manikanta",
      "userId": "03760544981880881787"
     },
     "user_tz": -330
    },
    "id": "3UCyz5RLWA7q",
    "outputId": "dfa09bba-b6e0-4ae6-e7ae-2a42c9ac5d38"
   },
   "outputs": [
    {
     "name": "stdout",
     "output_type": "stream",
     "text": [
      "Holla, how are you?\n",
      "our e=xecutibve will be with you in short time\n",
      "rate exp\n",
      "bye\n"
     ]
    }
   ],
   "source": [
    "greetFunc()"
   ]
  },
  {
   "cell_type": "code",
   "execution_count": null,
   "metadata": {
    "colab": {
     "base_uri": "https://localhost:8080/"
    },
    "executionInfo": {
     "elapsed": 3,
     "status": "ok",
     "timestamp": 1716994412422,
     "user": {
      "displayName": "Abhilash Manikanta",
      "userId": "03760544981880881787"
     },
     "user_tz": -330
    },
    "id": "23_ZZGAxWA4j",
    "outputId": "3962c3a7-3d98-4e1f-ba8c-09a80c787b2d"
   },
   "outputs": [
    {
     "name": "stdout",
     "output_type": "stream",
     "text": [
      "Holla, how are you?\n"
     ]
    }
   ],
   "source": [
    "greetFunc()"
   ]
  },
  {
   "cell_type": "code",
   "execution_count": null,
   "metadata": {
    "id": "VtW8lh-_WA1o"
   },
   "outputs": [],
   "source": []
  },
  {
   "cell_type": "code",
   "execution_count": null,
   "metadata": {
    "id": "qsIb5K-kWAyj"
   },
   "outputs": [],
   "source": [
    "def foo():\n",
    "  print('hi')\n",
    "  5/0\n",
    "\n"
   ]
  },
  {
   "cell_type": "code",
   "execution_count": null,
   "metadata": {
    "colab": {
     "base_uri": "https://localhost:8080/",
     "height": 263
    },
    "executionInfo": {
     "elapsed": 8,
     "status": "error",
     "timestamp": 1716995002087,
     "user": {
      "displayName": "Abhilash Manikanta",
      "userId": "03760544981880881787"
     },
     "user_tz": -330
    },
    "id": "l5Rz2kenWAvx",
    "outputId": "e4f0a968-5dbb-431c-85c6-844e942455ac"
   },
   "outputs": [
    {
     "name": "stdout",
     "output_type": "stream",
     "text": [
      "hi\n"
     ]
    },
    {
     "ename": "ZeroDivisionError",
     "evalue": "division by zero",
     "output_type": "error",
     "traceback": [
      "\u001b[0;31m---------------------------------------------------------------------------\u001b[0m",
      "\u001b[0;31mZeroDivisionError\u001b[0m                         Traceback (most recent call last)",
      "\u001b[0;32m<ipython-input-13-c19b6d9633cf>\u001b[0m in \u001b[0;36m<cell line: 1>\u001b[0;34m()\u001b[0m\n\u001b[0;32m----> 1\u001b[0;31m \u001b[0mfoo\u001b[0m\u001b[0;34m(\u001b[0m\u001b[0;34m)\u001b[0m\u001b[0;34m\u001b[0m\u001b[0;34m\u001b[0m\u001b[0m\n\u001b[0m",
      "\u001b[0;32m<ipython-input-12-78bb3bade129>\u001b[0m in \u001b[0;36mfoo\u001b[0;34m()\u001b[0m\n\u001b[1;32m      1\u001b[0m \u001b[0;32mdef\u001b[0m \u001b[0mfoo\u001b[0m\u001b[0;34m(\u001b[0m\u001b[0;34m)\u001b[0m\u001b[0;34m:\u001b[0m\u001b[0;34m\u001b[0m\u001b[0;34m\u001b[0m\u001b[0m\n\u001b[1;32m      2\u001b[0m   \u001b[0mprint\u001b[0m\u001b[0;34m(\u001b[0m\u001b[0;34m'hi'\u001b[0m\u001b[0;34m)\u001b[0m\u001b[0;34m\u001b[0m\u001b[0;34m\u001b[0m\u001b[0m\n\u001b[0;32m----> 3\u001b[0;31m   \u001b[0;36m5\u001b[0m\u001b[0;34m/\u001b[0m\u001b[0;36m0\u001b[0m\u001b[0;34m\u001b[0m\u001b[0;34m\u001b[0m\u001b[0m\n\u001b[0m\u001b[1;32m      4\u001b[0m \u001b[0;34m\u001b[0m\u001b[0m\n",
      "\u001b[0;31mZeroDivisionError\u001b[0m: division by zero"
     ]
    }
   ],
   "source": [
    "foo()"
   ]
  },
  {
   "cell_type": "code",
   "execution_count": null,
   "metadata": {
    "id": "o_FHNSDbWAs3"
   },
   "outputs": [],
   "source": [
    "def foo(x,y,z):\n",
    "  print((x+y)/z)"
   ]
  },
  {
   "cell_type": "code",
   "execution_count": null,
   "metadata": {
    "colab": {
     "base_uri": "https://localhost:8080/"
    },
    "executionInfo": {
     "elapsed": 560,
     "status": "ok",
     "timestamp": 1716997395254,
     "user": {
      "displayName": "Abhilash Manikanta",
      "userId": "03760544981880881787"
     },
     "user_tz": -330
    },
    "id": "_0Gk8Up0WAp_",
    "outputId": "33e196f2-3eb1-4be4-df48-cf346443de20"
   },
   "outputs": [
    {
     "name": "stdout",
     "output_type": "stream",
     "text": [
      "1.0\n"
     ]
    }
   ],
   "source": [
    "foo(1,2,3) # positional args\n",
    "\n",
    "# x gets 1, y gets 2, z gets 3"
   ]
  },
  {
   "cell_type": "code",
   "execution_count": null,
   "metadata": {
    "colab": {
     "base_uri": "https://localhost:8080/"
    },
    "executionInfo": {
     "elapsed": 3,
     "status": "ok",
     "timestamp": 1716997459512,
     "user": {
      "displayName": "Abhilash Manikanta",
      "userId": "03760544981880881787"
     },
     "user_tz": -330
    },
    "id": "GHUGpRidWAm-",
    "outputId": "ad390c6a-b5a9-4099-a62e-06ea010f2c3e"
   },
   "outputs": [
    {
     "name": "stdout",
     "output_type": "stream",
     "text": [
      "1.0\n"
     ]
    }
   ],
   "source": [
    "foo(z = 3, x = 1, y = 2) # keyword args"
   ]
  },
  {
   "cell_type": "code",
   "execution_count": null,
   "metadata": {
    "colab": {
     "base_uri": "https://localhost:8080/",
     "height": 141
    },
    "executionInfo": {
     "elapsed": 674,
     "status": "error",
     "timestamp": 1716997602359,
     "user": {
      "displayName": "Abhilash Manikanta",
      "userId": "03760544981880881787"
     },
     "user_tz": -330
    },
    "id": "YqWuHAoRWAj-",
    "outputId": "b15d9c73-7fc9-4be0-9128-e700bc365bb0"
   },
   "outputs": [
    {
     "ename": "TypeError",
     "evalue": "foo() got multiple values for argument 'x'",
     "output_type": "error",
     "traceback": [
      "\u001b[0;31m---------------------------------------------------------------------------\u001b[0m",
      "\u001b[0;31mTypeError\u001b[0m                                 Traceback (most recent call last)",
      "\u001b[0;32m<ipython-input-26-d25a6139a57f>\u001b[0m in \u001b[0;36m<cell line: 1>\u001b[0;34m()\u001b[0m\n\u001b[0;32m----> 1\u001b[0;31m \u001b[0mfoo\u001b[0m\u001b[0;34m(\u001b[0m \u001b[0;36m3\u001b[0m\u001b[0;34m,\u001b[0m \u001b[0my\u001b[0m \u001b[0;34m=\u001b[0m \u001b[0;36m2\u001b[0m\u001b[0;34m,\u001b[0m \u001b[0mx\u001b[0m \u001b[0;34m=\u001b[0m \u001b[0;36m1\u001b[0m\u001b[0;34m)\u001b[0m\u001b[0;34m\u001b[0m\u001b[0;34m\u001b[0m\u001b[0m\n\u001b[0m",
      "\u001b[0;31mTypeError\u001b[0m: foo() got multiple values for argument 'x'"
     ]
    }
   ],
   "source": [
    "foo( 3, y = 2, x = 1)"
   ]
  },
  {
   "cell_type": "code",
   "execution_count": null,
   "metadata": {
    "colab": {
     "base_uri": "https://localhost:8080/",
     "height": 106
    },
    "executionInfo": {
     "elapsed": 482,
     "status": "error",
     "timestamp": 1716997664132,
     "user": {
      "displayName": "Abhilash Manikanta",
      "userId": "03760544981880881787"
     },
     "user_tz": -330
    },
    "id": "j58mfzmsWAhX",
    "outputId": "02df6ddc-9251-44b5-b385-80e8fc822433"
   },
   "outputs": [
    {
     "ename": "SyntaxError",
     "evalue": "positional argument follows keyword argument (<ipython-input-27-dbb24aa04079>, line 1)",
     "output_type": "error",
     "traceback": [
      "\u001b[0;36m  File \u001b[0;32m\"<ipython-input-27-dbb24aa04079>\"\u001b[0;36m, line \u001b[0;32m1\u001b[0m\n\u001b[0;31m    foo( y = 2, x = 1, 3)\u001b[0m\n\u001b[0m                        ^\u001b[0m\n\u001b[0;31mSyntaxError\u001b[0m\u001b[0;31m:\u001b[0m positional argument follows keyword argument\n"
     ]
    }
   ],
   "source": [
    "foo( y = 2, x = 1, 3)"
   ]
  },
  {
   "cell_type": "code",
   "execution_count": null,
   "metadata": {
    "colab": {
     "base_uri": "https://localhost:8080/",
     "height": 106
    },
    "executionInfo": {
     "elapsed": 9,
     "status": "error",
     "timestamp": 1716997879605,
     "user": {
      "displayName": "Abhilash Manikanta",
      "userId": "03760544981880881787"
     },
     "user_tz": -330
    },
    "id": "rttrB8muWAek",
    "outputId": "cc87d9bd-affa-471a-91fd-a4df01e11fcd"
   },
   "outputs": [
    {
     "ename": "SyntaxError",
     "evalue": "positional argument follows keyword argument (<ipython-input-28-e5c687da097c>, line 1)",
     "output_type": "error",
     "traceback": [
      "\u001b[0;36m  File \u001b[0;32m\"<ipython-input-28-e5c687da097c>\"\u001b[0;36m, line \u001b[0;32m1\u001b[0m\n\u001b[0;31m    foo(3, y = 2, 1)\u001b[0m\n\u001b[0m                   ^\u001b[0m\n\u001b[0;31mSyntaxError\u001b[0m\u001b[0;31m:\u001b[0m positional argument follows keyword argument\n"
     ]
    }
   ],
   "source": [
    "foo(3, y = 2, 1)"
   ]
  },
  {
   "cell_type": "code",
   "execution_count": null,
   "metadata": {
    "colab": {
     "base_uri": "https://localhost:8080/"
    },
    "executionInfo": {
     "elapsed": 5,
     "status": "ok",
     "timestamp": 1716997924853,
     "user": {
      "displayName": "Abhilash Manikanta",
      "userId": "03760544981880881787"
     },
     "user_tz": -330
    },
    "id": "YUngFqSFWAbr",
    "outputId": "c95ef0c9-b2f7-4a29-de1b-afcf6bff8000"
   },
   "outputs": [
    {
     "name": "stdout",
     "output_type": "stream",
     "text": [
      "1.0\n"
     ]
    }
   ],
   "source": [
    "foo(1, z = 3, y = 2) # there is no conflict or breaking the rule"
   ]
  },
  {
   "cell_type": "code",
   "execution_count": null,
   "metadata": {
    "id": "P0yzRznWWAZA"
   },
   "outputs": [],
   "source": [
    "# default args ---> at time of defining the func"
   ]
  },
  {
   "cell_type": "code",
   "execution_count": null,
   "metadata": {
    "id": "f3_8jTs_WAV4"
   },
   "outputs": [],
   "source": [
    "def foo(x,y, z=10):\n",
    "  print((x+y)/z)"
   ]
  },
  {
   "cell_type": "code",
   "execution_count": null,
   "metadata": {
    "colab": {
     "base_uri": "https://localhost:8080/"
    },
    "executionInfo": {
     "elapsed": 400,
     "status": "ok",
     "timestamp": 1716998384473,
     "user": {
      "displayName": "Abhilash Manikanta",
      "userId": "03760544981880881787"
     },
     "user_tz": -330
    },
    "id": "cOPoXi2SWAS_",
    "outputId": "3d9a6a43-515f-4176-bd26-276da53115d8"
   },
   "outputs": [
    {
     "name": "stdout",
     "output_type": "stream",
     "text": [
      "5.0\n"
     ]
    }
   ],
   "source": [
    "foo(20, 30)"
   ]
  },
  {
   "cell_type": "code",
   "execution_count": null,
   "metadata": {
    "id": "V6bQ26M9WAQX"
   },
   "outputs": [],
   "source": []
  },
  {
   "cell_type": "code",
   "execution_count": null,
   "metadata": {
    "id": "GenW_HWqWANe"
   },
   "outputs": [],
   "source": [
    "def foo(a, b, c=5, d=6, e=7, f=8, g=9, h=10):\n",
    "  t = (a+b*c/e)+(d**2)-(e*f*g)-h\n",
    "  print(t)\n"
   ]
  },
  {
   "cell_type": "code",
   "execution_count": null,
   "metadata": {
    "colab": {
     "base_uri": "https://localhost:8080/"
    },
    "executionInfo": {
     "elapsed": 5,
     "status": "ok",
     "timestamp": 1716998738678,
     "user": {
      "displayName": "Abhilash Manikanta",
      "userId": "03760544981880881787"
     },
     "user_tz": -330
    },
    "id": "tB_9sV4eWAKZ",
    "outputId": "2e9817a1-5471-4591-fcf8-e548dc715391"
   },
   "outputs": [
    {
     "name": "stdout",
     "output_type": "stream",
     "text": [
      "-475.57142857142856\n"
     ]
    }
   ],
   "source": [
    "foo(1,2)"
   ]
  },
  {
   "cell_type": "code",
   "execution_count": null,
   "metadata": {
    "colab": {
     "base_uri": "https://localhost:8080/"
    },
    "executionInfo": {
     "elapsed": 666,
     "status": "ok",
     "timestamp": 1716998800688,
     "user": {
      "displayName": "Abhilash Manikanta",
      "userId": "03760544981880881787"
     },
     "user_tz": -330
    },
    "id": "aXZ5K6wcWAHi",
    "outputId": "50538054-95a3-4670-d72e-93653bd1ccc9"
   },
   "outputs": [
    {
     "name": "stdout",
     "output_type": "stream",
     "text": [
      "-1035.5714285714287\n"
     ]
    }
   ],
   "source": [
    "foo(1, 2, 5, 6, 7, 8, 19)"
   ]
  },
  {
   "cell_type": "code",
   "execution_count": null,
   "metadata": {
    "colab": {
     "base_uri": "https://localhost:8080/"
    },
    "executionInfo": {
     "elapsed": 430,
     "status": "ok",
     "timestamp": 1716998848675,
     "user": {
      "displayName": "Abhilash Manikanta",
      "userId": "03760544981880881787"
     },
     "user_tz": -330
    },
    "id": "7nR16RRrWAEn",
    "outputId": "7864e443-e963-4b1a-8737-8972ea80cbd4"
   },
   "outputs": [
    {
     "name": "stdout",
     "output_type": "stream",
     "text": [
      "-1035.5714285714287\n"
     ]
    }
   ],
   "source": [
    "foo(1,2, g = 19)"
   ]
  },
  {
   "cell_type": "code",
   "execution_count": null,
   "metadata": {
    "id": "a1LZro8iWABt"
   },
   "outputs": [],
   "source": []
  }
 ],
 "metadata": {
  "colab": {
   "authorship_tag": "ABX9TyPlRo8aZyqLUsvYjwMKKVZd",
   "provenance": []
  },
  "kernelspec": {
   "display_name": "Python 3 (ipykernel)",
   "language": "python",
   "name": "python3"
  },
  "language_info": {
   "codemirror_mode": {
    "name": "ipython",
    "version": 3
   },
   "file_extension": ".py",
   "mimetype": "text/x-python",
   "name": "python",
   "nbconvert_exporter": "python",
   "pygments_lexer": "ipython3",
   "version": "3.11.7"
  }
 },
 "nbformat": 4,
 "nbformat_minor": 4
}
